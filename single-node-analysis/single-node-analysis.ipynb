{
 "cells": [
  {
   "cell_type": "markdown",
   "metadata": {},
   "source": [
    "# Single node analysis"
   ]
  },
  {
   "cell_type": "code",
   "execution_count": 1,
   "metadata": {},
   "outputs": [],
   "source": [
    "from pyspark.sql import SparkSession\n",
    "from pyspark.context import SparkContext\n",
    "from pyspark.sql import SQLContext\n",
    "\n",
    "from pyspark.sql import functions as f\n",
    "from pyspark.sql import types as T\n",
    "from pyspark.sql import Window\n",
    "\n",
    "import os"
   ]
  },
  {
   "cell_type": "code",
   "execution_count": 2,
   "metadata": {},
   "outputs": [
    {
     "name": "stdout",
     "output_type": "stream",
     "text": [
      ":: loading settings :: url = jar:file:/usr/local/lib/python3.9/site-packages/pyspark/jars/ivy-2.5.0.jar!/org/apache/ivy/core/settings/ivysettings.xml\n"
     ]
    },
    {
     "name": "stderr",
     "output_type": "stream",
     "text": [
      "Ivy Default Cache set to: /Users/tcn/.ivy2/cache\n",
      "The jars for the packages stored in: /Users/tcn/.ivy2/jars\n",
      "graphframes#graphframes added as a dependency\n",
      ":: resolving dependencies :: org.apache.spark#spark-submit-parent-656df167-ac7e-4b07-98f2-ac950c76cc14;1.0\n",
      "\tconfs: [default]\n",
      "\tfound graphframes#graphframes;0.8.2-spark3.2-s_2.12 in spark-packages\n",
      "\tfound org.slf4j#slf4j-api;1.7.16 in central\n",
      ":: resolution report :: resolve 117ms :: artifacts dl 6ms\n",
      "\t:: modules in use:\n",
      "\tgraphframes#graphframes;0.8.2-spark3.2-s_2.12 from spark-packages in [default]\n",
      "\torg.slf4j#slf4j-api;1.7.16 from central in [default]\n",
      "\t---------------------------------------------------------------------\n",
      "\t|                  |            modules            ||   artifacts   |\n",
      "\t|       conf       | number| search|dwnlded|evicted|| number|dwnlded|\n",
      "\t---------------------------------------------------------------------\n",
      "\t|      default     |   2   |   0   |   0   |   0   ||   2   |   0   |\n",
      "\t---------------------------------------------------------------------\n",
      ":: retrieving :: org.apache.spark#spark-submit-parent-656df167-ac7e-4b07-98f2-ac950c76cc14\n",
      "\tconfs: [default]\n",
      "\t0 artifacts copied, 2 already retrieved (0kB/4ms)\n",
      "22/01/12 14:55:23 WARN NativeCodeLoader: Unable to load native-hadoop library for your platform... using builtin-java classes where applicable\n",
      "Using Spark's default log4j profile: org/apache/spark/log4j-defaults.properties\n",
      "Setting default log level to \"WARN\".\n",
      "To adjust logging level use sc.setLogLevel(newLevel). For SparkR, use setLogLevel(newLevel).\n",
      "/usr/local/lib/python3.9/site-packages/pyspark/sql/context.py:77: FutureWarning: Deprecated in 3.0.0. Use SparkSession.builder.getOrCreate() instead.\n",
      "  warnings.warn(\n"
     ]
    }
   ],
   "source": [
    "spark = SparkSession.builder.appName(\"Python Spark SQL\").config(\"spark.jars.packages\", \"graphframes:graphframes:0.8.2-spark3.2-s_2.12\").getOrCreate()\n",
    "sqlContext = SQLContext(spark.sparkContext)"
   ]
  },
  {
   "cell_type": "code",
   "execution_count": 3,
   "metadata": {},
   "outputs": [],
   "source": [
    "from graphframes import *"
   ]
  },
  {
   "cell_type": "markdown",
   "metadata": {},
   "source": [
    "## Prepare data"
   ]
  },
  {
   "cell_type": "code",
   "execution_count": 4,
   "metadata": {},
   "outputs": [
    {
     "name": "stderr",
     "output_type": "stream",
     "text": [
      "                                                                                \r"
     ]
    }
   ],
   "source": [
    "vertices = spark.read.parquet('../data/vertices/*.parquet')\n",
    "edges = spark.read.parquet('../data/edges/*.parquet')"
   ]
  },
  {
   "cell_type": "code",
   "execution_count": 5,
   "metadata": {},
   "outputs": [
    {
     "name": "stdout",
     "output_type": "stream",
     "text": [
      "+------------------+\n",
      "|                id|\n",
      "+------------------+\n",
      "|      Abbas Afsar |\n",
      "|       Abed S. H. |\n",
      "|Abu-Shammala Wael |\n",
      "|   Abuhlail J. Y. |\n",
      "|    Assaf Michael |\n",
      "+------------------+\n",
      "only showing top 5 rows\n",
      "\n"
     ]
    }
   ],
   "source": [
    "vertices.show(5)"
   ]
  },
  {
   "cell_type": "code",
   "execution_count": 6,
   "metadata": {},
   "outputs": [
    {
     "name": "stdout",
     "output_type": "stream",
     "text": [
      "+--------------------+--------------------+--------------+------------+--------------------+--------------------+\n",
      "|                 src|                 dst|articles_count|articles_ids| articles_categories|articles_update_date|\n",
      "+--------------------+--------------------+--------------+------------+--------------------+--------------------+\n",
      "|Iliev Bozhidar Z....|Iliev Bozhidar Z....|             1| [0704.0066]|          [[hep-th]]|        [2007-05-23]|\n",
      "|Schekochihin A. A...|Quataert E.  Berk...|             1| [0704.0044]|[[astro-ph, nlin....|        [2015-05-13]|\n",
      "|Schekochihin A. A...|Dorland W.  Maryland|             1| [0704.0044]|[[astro-ph, nlin....|        [2015-05-13]|\n",
      "|Schekochihin A. A...|Hammett G. W.  Pr...|             1| [0704.0044]|[[astro-ph, nlin....|        [2015-05-13]|\n",
      "|Schekochihin A. A...|Tatsuno T.  Maryland|             1| [0704.0044]|[[astro-ph, nlin....|        [2015-05-13]|\n",
      "+--------------------+--------------------+--------------+------------+--------------------+--------------------+\n",
      "only showing top 5 rows\n",
      "\n"
     ]
    }
   ],
   "source": [
    "edges.show(5)"
   ]
  },
  {
   "cell_type": "code",
   "execution_count": 7,
   "metadata": {},
   "outputs": [],
   "source": [
    "g = GraphFrame(vertices, edges)"
   ]
  },
  {
   "cell_type": "markdown",
   "metadata": {},
   "source": [
    "## Degree centrality (DC)\n"
   ]
  },
  {
   "cell_type": "code",
   "execution_count": 8,
   "metadata": {},
   "outputs": [
    {
     "name": "stdout",
     "output_type": "stream",
     "text": [
      "+-------------+------+\n",
      "|           id|degree|\n",
      "+-------------+------+\n",
      "|Berger E. L. |     6|\n",
      "+-------------+------+\n",
      "\n"
     ]
    }
   ],
   "source": [
    "g.degrees.where(f.col(\"id\") == \"Berger E. L. \").show()"
   ]
  },
  {
   "cell_type": "code",
   "execution_count": 9,
   "metadata": {},
   "outputs": [],
   "source": [
    "degree_centrality = g.degrees\n",
    "degree_centrality = degree_centrality.withColumnRenamed('id', 'author')"
   ]
  },
  {
   "cell_type": "code",
   "execution_count": 10,
   "metadata": {},
   "outputs": [
    {
     "name": "stdout",
     "output_type": "stream",
     "text": [
      "+-------------------+------+\n",
      "|             author|degree|\n",
      "+-------------------+------+\n",
      "|        Bloomer Ed |    26|\n",
      "|       Clark James |    26|\n",
      "|    Toher Jennifer |    26|\n",
      "|    Pitkin Matthew |    26|\n",
      "|Christensen Nelson |    26|\n",
      "|  Roever Christian |    26|\n",
      "|      Meyer Renate |    26|\n",
      "|Umstaetter Richard |    26|\n",
      "| Stroeer Alexander |    26|\n",
      "|   Messenger Chris |    26|\n",
      "+-------------------+------+\n",
      "only showing top 10 rows\n",
      "\n"
     ]
    }
   ],
   "source": [
    "degree_centrality.orderBy(\"degree\", ascending=False).show(10)"
   ]
  },
  {
   "cell_type": "code",
   "execution_count": 11,
   "metadata": {},
   "outputs": [
    {
     "name": "stderr",
     "output_type": "stream",
     "text": [
      "                                                                                \r"
     ]
    }
   ],
   "source": [
    "degree_centrality.write.mode(\"overwrite\").parquet('../data/single-node-analysis/degree-centrality')"
   ]
  },
  {
   "cell_type": "markdown",
   "metadata": {},
   "source": [
    "## Betweenness centrality (BC)"
   ]
  },
  {
   "cell_type": "code",
   "execution_count": 12,
   "metadata": {},
   "outputs": [
    {
     "name": "stderr",
     "output_type": "stream",
     "text": [
      "                                                                                \r"
     ]
    },
    {
     "data": {
      "text/plain": [
       "['Abbas Afsar ',\n",
       " 'Abed S. H. ',\n",
       " 'Abu-Shammala Wael ',\n",
       " 'Abuhlail J. Y. ',\n",
       " 'Assaf Michael ']"
      ]
     },
     "execution_count": 12,
     "metadata": {},
     "output_type": "execute_result"
    }
   ],
   "source": [
    "g.vertices.select('id').limit(5).rdd.flatMap(lambda x: x).collect()"
   ]
  },
  {
   "cell_type": "code",
   "execution_count": 13,
   "metadata": {},
   "outputs": [
    {
     "name": "stderr",
     "output_type": "stream",
     "text": [
      "                                                                                \r"
     ]
    },
    {
     "name": "stdout",
     "output_type": "stream",
     "text": [
      "+--------------------+--------------------+\n",
      "|                  id|           distances|\n",
      "+--------------------+--------------------+\n",
      "| Fal'ko Vladimir I. |{Goerbig M. O.  -...|\n",
      "|        Levesley J. |{Brownlee R. A.  ...|\n",
      "|        Noyes R. W. |{Everett M. E.  -...|\n",
      "|The BABAR Collabo...|{Aubert B.  -> 1,...|\n",
      "|       Theran Louis |{Theran Louis  ->...|\n",
      "|        Choi Dohoon |{Choie YoungJu  -...|\n",
      "|      Goerbig M. O. |{Goerbig M. O.  -...|\n",
      "|     Minasyan Ashot |{Minasyan Ashot  ...|\n",
      "|          Torres G. |{Everett M. E.  -...|\n",
      "|       Warner Brian |{Dhillon Vikram S...|\n",
      "|Tatsuno T.  Maryland|{Dorland W.  Mary...|\n",
      "|        Øbro Mikkel | {Øbro Mikkel  -> 0}|\n",
      "|         Bloomer Ed |{Messenger Chris ...|\n",
      "|   Chapman Nicholas |{Myers Philip C. ...|\n",
      "|  Stroeer Alexander |{Messenger Chris ...|\n",
      "|        Hague J. P. |{d'Ambrumenil N. ...|\n",
      "|        Abbas Afsar | {Abbas Afsar  -> 0}|\n",
      "|Solel Baruch  Tec...|{Solel Baruch  Te...|\n",
      "|  Sontag Eduardo D. |{Sontag Eduardo D...|\n",
      "|       Wang Yu-Ming |{Li Xue-Qian  -> ...|\n",
      "+--------------------+--------------------+\n",
      "only showing top 20 rows\n",
      "\n"
     ]
    }
   ],
   "source": [
    "shortest_paths = g.shortestPaths(landmarks=g.vertices.select('id').rdd.flatMap(lambda x: x).collect())\n",
    "shortest_paths.show()"
   ]
  },
  {
   "cell_type": "code",
   "execution_count": 14,
   "metadata": {},
   "outputs": [],
   "source": [
    "shortest_paths.write.mode('overwrite').parquet('../data/single-node-analysis/shortest-paths')"
   ]
  },
  {
   "cell_type": "code",
   "execution_count": 15,
   "metadata": {},
   "outputs": [],
   "source": [
    "shortest_paths = shortest_paths.withColumn('vertices_in_between', f.map_keys(f.col('distances')))"
   ]
  },
  {
   "cell_type": "code",
   "execution_count": 16,
   "metadata": {},
   "outputs": [
    {
     "name": "stdout",
     "output_type": "stream",
     "text": [
      "root\n",
      " |-- id: string (nullable = true)\n",
      " |-- distances: map (nullable = true)\n",
      " |    |-- key: string\n",
      " |    |-- value: integer (valueContainsNull = false)\n",
      " |-- vertices_in_between: array (nullable = true)\n",
      " |    |-- element: string (containsNull = true)\n",
      "\n"
     ]
    }
   ],
   "source": [
    "shortest_paths.printSchema()"
   ]
  },
  {
   "cell_type": "code",
   "execution_count": 17,
   "metadata": {},
   "outputs": [
    {
     "name": "stdout",
     "output_type": "stream",
     "text": [
      "+-----------+-------------------------------------------------------------+----------------------------------------------+\n",
      "|id         |distances                                                    |vertices_in_between                           |\n",
      "+-----------+-------------------------------------------------------------+----------------------------------------------+\n",
      "|Abed S. H. |{Abed S. H.  -> 0, Soleiman A.  -> 1, Youssef Nabil L.  -> 1}|[Abed S. H. , Soleiman A. , Youssef Nabil L. ]|\n",
      "+-----------+-------------------------------------------------------------+----------------------------------------------+\n",
      "\n"
     ]
    }
   ],
   "source": [
    "shortest_paths.filter(f.col('id') == 'Abed S. H. ').show(truncate=False)"
   ]
  },
  {
   "cell_type": "code",
   "execution_count": 18,
   "metadata": {},
   "outputs": [
    {
     "name": "stdout",
     "output_type": "stream",
     "text": [
      "+-------------------+--------------------+--------------------+----------------------------+\n",
      "|                 id|           distances| vertices_in_between|vertices_in_between_exploded|\n",
      "+-------------------+--------------------+--------------------+----------------------------+\n",
      "|        Bloomer Ed |{Messenger Chris ...|[Messenger Chris ...|                 Bloomer Ed |\n",
      "| Stroeer Alexander |{Messenger Chris ...|[Messenger Chris ...|                 Bloomer Ed |\n",
      "|       Woan Graham |{Messenger Chris ...|[Messenger Chris ...|                 Bloomer Ed |\n",
      "|   Vecchio Alberto |{Messenger Chris ...|[Messenger Chris ...|                 Bloomer Ed |\n",
      "|    Toher Jennifer |{Messenger Chris ...|[Messenger Chris ...|                 Bloomer Ed |\n",
      "|      Meyer Renate |{Messenger Chris ...|[Messenger Chris ...|                 Bloomer Ed |\n",
      "|    Pitkin Matthew |{Messenger Chris ...|[Messenger Chris ...|                 Bloomer Ed |\n",
      "|   Messenger Chris |{Messenger Chris ...|[Messenger Chris ...|                 Bloomer Ed |\n",
      "|       Clark James |{Messenger Chris ...|[Messenger Chris ...|                 Bloomer Ed |\n",
      "|       Veitch John |{Messenger Chris ...|[Messenger Chris ...|                 Bloomer Ed |\n",
      "|Christensen Nelson |{Messenger Chris ...|[Messenger Chris ...|                 Bloomer Ed |\n",
      "|  Roever Christian |{Messenger Chris ...|[Messenger Chris ...|                 Bloomer Ed |\n",
      "|     Hendry Martin |{Messenger Chris ...|[Messenger Chris ...|                 Bloomer Ed |\n",
      "|Umstaetter Richard |{Messenger Chris ...|[Messenger Chris ...|                 Bloomer Ed |\n",
      "+-------------------+--------------------+--------------------+----------------------------+\n",
      "\n"
     ]
    }
   ],
   "source": [
    "shortest_paths.withColumn('vertices_in_between_exploded', f.explode(f.col('vertices_in_between'))).filter(f.col('vertices_in_between_exploded') == 'Bloomer Ed ').show()"
   ]
  },
  {
   "cell_type": "code",
   "execution_count": 19,
   "metadata": {},
   "outputs": [],
   "source": [
    "betweenness_centrality = shortest_paths.withColumn('vertices_in_between_exploded', f.explode(f.col('vertices_in_between'))).groupBy('vertices_in_between_exploded').agg(\n",
    "    f.count(f.col('id'))).withColumnRenamed(\n",
    "        'vertices_in_between_exploded', 'author').withColumnRenamed('count(id)', 'degree')"
   ]
  },
  {
   "cell_type": "code",
   "execution_count": 20,
   "metadata": {},
   "outputs": [
    {
     "name": "stdout",
     "output_type": "stream",
     "text": [
      "+-----------+------+\n",
      "|     author|degree|\n",
      "+-----------+------+\n",
      "|Bloomer Ed |    14|\n",
      "+-----------+------+\n",
      "\n"
     ]
    }
   ],
   "source": [
    "betweenness_centrality.filter(f.col('author') == 'Bloomer Ed ').show()"
   ]
  },
  {
   "cell_type": "code",
   "execution_count": 21,
   "metadata": {},
   "outputs": [
    {
     "data": {
      "text/plain": [
       "14"
      ]
     },
     "execution_count": 21,
     "metadata": {},
     "output_type": "execute_result"
    }
   ],
   "source": [
    "# Verify\n",
    "shortest_paths.filter(f.array_contains(f.col(\"vertices_in_between\"), 'Bloomer Ed ')).count()"
   ]
  },
  {
   "cell_type": "code",
   "execution_count": 22,
   "metadata": {},
   "outputs": [
    {
     "name": "stdout",
     "output_type": "stream",
     "text": [
      "+-------------------+------+\n",
      "|             author|degree|\n",
      "+-------------------+------+\n",
      "|       Veitch John |    14|\n",
      "|    Pitkin Matthew |    14|\n",
      "|     Hendry Martin |    14|\n",
      "|       Woan Graham |    14|\n",
      "|Christensen Nelson |    14|\n",
      "|      Meyer Renate |    14|\n",
      "|    Toher Jennifer |    14|\n",
      "|        Bloomer Ed |    14|\n",
      "|  Roever Christian |    14|\n",
      "|Umstaetter Richard |    14|\n",
      "+-------------------+------+\n",
      "only showing top 10 rows\n",
      "\n"
     ]
    }
   ],
   "source": [
    "betweenness_centrality.orderBy('degree', ascending=False).show(10)"
   ]
  },
  {
   "cell_type": "code",
   "execution_count": 23,
   "metadata": {},
   "outputs": [],
   "source": [
    "betweenness_centrality.write.mode(\"overwrite\").parquet('../data/single-node-analysis/betweeness-centrality')"
   ]
  },
  {
   "cell_type": "markdown",
   "metadata": {},
   "source": [
    "## Timespan"
   ]
  },
  {
   "cell_type": "code",
   "execution_count": 24,
   "metadata": {},
   "outputs": [
    {
     "data": {
      "text/html": [
       "<div>\n",
       "<style scoped>\n",
       "    .dataframe tbody tr th:only-of-type {\n",
       "        vertical-align: middle;\n",
       "    }\n",
       "\n",
       "    .dataframe tbody tr th {\n",
       "        vertical-align: top;\n",
       "    }\n",
       "\n",
       "    .dataframe thead th {\n",
       "        text-align: right;\n",
       "    }\n",
       "</style>\n",
       "<table border=\"1\" class=\"dataframe\">\n",
       "  <thead>\n",
       "    <tr style=\"text-align: right;\">\n",
       "      <th></th>\n",
       "      <th>src</th>\n",
       "      <th>dst</th>\n",
       "      <th>articles_count</th>\n",
       "      <th>articles_ids</th>\n",
       "      <th>articles_categories</th>\n",
       "      <th>articles_update_date</th>\n",
       "    </tr>\n",
       "  </thead>\n",
       "  <tbody>\n",
       "    <tr>\n",
       "      <th>0</th>\n",
       "      <td>Iliev Bozhidar Z.  Institute for Nuclear Resea...</td>\n",
       "      <td>Iliev Bozhidar Z.  Institute for Nuclear Resea...</td>\n",
       "      <td>1</td>\n",
       "      <td>[0704.0066]</td>\n",
       "      <td>[[hep-th]]</td>\n",
       "      <td>[2007-05-23]</td>\n",
       "    </tr>\n",
       "    <tr>\n",
       "      <th>1</th>\n",
       "      <td>Schekochihin A. A.  Oxford</td>\n",
       "      <td>Quataert E.  Berkeley</td>\n",
       "      <td>1</td>\n",
       "      <td>[0704.0044]</td>\n",
       "      <td>[[astro-ph, nlin.CD, physics.plasm-ph, physics...</td>\n",
       "      <td>[2015-05-13]</td>\n",
       "    </tr>\n",
       "  </tbody>\n",
       "</table>\n",
       "</div>"
      ],
      "text/plain": [
       "                                                 src  \\\n",
       "0  Iliev Bozhidar Z.  Institute for Nuclear Resea...   \n",
       "1                         Schekochihin A. A.  Oxford   \n",
       "\n",
       "                                                 dst  articles_count  \\\n",
       "0  Iliev Bozhidar Z.  Institute for Nuclear Resea...               1   \n",
       "1                              Quataert E.  Berkeley               1   \n",
       "\n",
       "  articles_ids                                articles_categories  \\\n",
       "0  [0704.0066]                                         [[hep-th]]   \n",
       "1  [0704.0044]  [[astro-ph, nlin.CD, physics.plasm-ph, physics...   \n",
       "\n",
       "  articles_update_date  \n",
       "0         [2007-05-23]  \n",
       "1         [2015-05-13]  "
      ]
     },
     "execution_count": 24,
     "metadata": {},
     "output_type": "execute_result"
    }
   ],
   "source": [
    "edges.limit(2).toPandas()"
   ]
  },
  {
   "cell_type": "code",
   "execution_count": 25,
   "metadata": {},
   "outputs": [
    {
     "name": "stdout",
     "output_type": "stream",
     "text": [
      "root\n",
      " |-- src: string (nullable = true)\n",
      " |-- dst: string (nullable = true)\n",
      " |-- articles_count: long (nullable = true)\n",
      " |-- articles_ids: array (nullable = true)\n",
      " |    |-- element: string (containsNull = true)\n",
      " |-- articles_categories: array (nullable = true)\n",
      " |    |-- element: array (containsNull = true)\n",
      " |    |    |-- element: string (containsNull = true)\n",
      " |-- articles_update_date: array (nullable = true)\n",
      " |    |-- element: string (containsNull = true)\n",
      "\n"
     ]
    }
   ],
   "source": [
    "edges.printSchema()"
   ]
  },
  {
   "cell_type": "code",
   "execution_count": 26,
   "metadata": {},
   "outputs": [
    {
     "data": {
      "text/html": [
       "<div>\n",
       "<style scoped>\n",
       "    .dataframe tbody tr th:only-of-type {\n",
       "        vertical-align: middle;\n",
       "    }\n",
       "\n",
       "    .dataframe tbody tr th {\n",
       "        vertical-align: top;\n",
       "    }\n",
       "\n",
       "    .dataframe thead th {\n",
       "        text-align: right;\n",
       "    }\n",
       "</style>\n",
       "<table border=\"1\" class=\"dataframe\">\n",
       "  <thead>\n",
       "    <tr style=\"text-align: right;\">\n",
       "      <th></th>\n",
       "      <th>src</th>\n",
       "      <th>dst</th>\n",
       "      <th>articles_count</th>\n",
       "      <th>articles_ids</th>\n",
       "      <th>articles_categories</th>\n",
       "      <th>articles_update_date</th>\n",
       "      <th>articles_update_date_exploded</th>\n",
       "    </tr>\n",
       "  </thead>\n",
       "  <tbody>\n",
       "    <tr>\n",
       "      <th>0</th>\n",
       "      <td>Iliev Bozhidar Z.  Institute for Nuclear Resea...</td>\n",
       "      <td>Iliev Bozhidar Z.  Institute for Nuclear Resea...</td>\n",
       "      <td>1</td>\n",
       "      <td>[0704.0066]</td>\n",
       "      <td>[[hep-th]]</td>\n",
       "      <td>[2007-05-23]</td>\n",
       "      <td>2007-05-23</td>\n",
       "    </tr>\n",
       "    <tr>\n",
       "      <th>1</th>\n",
       "      <td>Schekochihin A. A.  Oxford</td>\n",
       "      <td>Quataert E.  Berkeley</td>\n",
       "      <td>1</td>\n",
       "      <td>[0704.0044]</td>\n",
       "      <td>[[astro-ph, nlin.CD, physics.plasm-ph, physics...</td>\n",
       "      <td>[2015-05-13]</td>\n",
       "      <td>2015-05-13</td>\n",
       "    </tr>\n",
       "    <tr>\n",
       "      <th>2</th>\n",
       "      <td>Schekochihin A. A.  Oxford</td>\n",
       "      <td>Dorland W.  Maryland</td>\n",
       "      <td>1</td>\n",
       "      <td>[0704.0044]</td>\n",
       "      <td>[[astro-ph, nlin.CD, physics.plasm-ph, physics...</td>\n",
       "      <td>[2015-05-13]</td>\n",
       "      <td>2015-05-13</td>\n",
       "    </tr>\n",
       "    <tr>\n",
       "      <th>3</th>\n",
       "      <td>Schekochihin A. A.  Oxford</td>\n",
       "      <td>Hammett G. W.  Princeton</td>\n",
       "      <td>1</td>\n",
       "      <td>[0704.0044]</td>\n",
       "      <td>[[astro-ph, nlin.CD, physics.plasm-ph, physics...</td>\n",
       "      <td>[2015-05-13]</td>\n",
       "      <td>2015-05-13</td>\n",
       "    </tr>\n",
       "    <tr>\n",
       "      <th>4</th>\n",
       "      <td>Schekochihin A. A.  Oxford</td>\n",
       "      <td>Tatsuno T.  Maryland</td>\n",
       "      <td>1</td>\n",
       "      <td>[0704.0044]</td>\n",
       "      <td>[[astro-ph, nlin.CD, physics.plasm-ph, physics...</td>\n",
       "      <td>[2015-05-13]</td>\n",
       "      <td>2015-05-13</td>\n",
       "    </tr>\n",
       "  </tbody>\n",
       "</table>\n",
       "</div>"
      ],
      "text/plain": [
       "                                                 src  \\\n",
       "0  Iliev Bozhidar Z.  Institute for Nuclear Resea...   \n",
       "1                         Schekochihin A. A.  Oxford   \n",
       "2                         Schekochihin A. A.  Oxford   \n",
       "3                         Schekochihin A. A.  Oxford   \n",
       "4                         Schekochihin A. A.  Oxford   \n",
       "\n",
       "                                                 dst  articles_count  \\\n",
       "0  Iliev Bozhidar Z.  Institute for Nuclear Resea...               1   \n",
       "1                              Quataert E.  Berkeley               1   \n",
       "2                               Dorland W.  Maryland               1   \n",
       "3                           Hammett G. W.  Princeton               1   \n",
       "4                               Tatsuno T.  Maryland               1   \n",
       "\n",
       "  articles_ids                                articles_categories  \\\n",
       "0  [0704.0066]                                         [[hep-th]]   \n",
       "1  [0704.0044]  [[astro-ph, nlin.CD, physics.plasm-ph, physics...   \n",
       "2  [0704.0044]  [[astro-ph, nlin.CD, physics.plasm-ph, physics...   \n",
       "3  [0704.0044]  [[astro-ph, nlin.CD, physics.plasm-ph, physics...   \n",
       "4  [0704.0044]  [[astro-ph, nlin.CD, physics.plasm-ph, physics...   \n",
       "\n",
       "  articles_update_date articles_update_date_exploded  \n",
       "0         [2007-05-23]                    2007-05-23  \n",
       "1         [2015-05-13]                    2015-05-13  \n",
       "2         [2015-05-13]                    2015-05-13  \n",
       "3         [2015-05-13]                    2015-05-13  \n",
       "4         [2015-05-13]                    2015-05-13  "
      ]
     },
     "execution_count": 26,
     "metadata": {},
     "output_type": "execute_result"
    }
   ],
   "source": [
    "edges_statistics = edges.withColumn('articles_update_date_exploded', f.explode(f.col('articles_update_date')))\n",
    "edges_statistics.limit(5).toPandas()"
   ]
  },
  {
   "cell_type": "code",
   "execution_count": 27,
   "metadata": {},
   "outputs": [
    {
     "data": {
      "text/html": [
       "<div>\n",
       "<style scoped>\n",
       "    .dataframe tbody tr th:only-of-type {\n",
       "        vertical-align: middle;\n",
       "    }\n",
       "\n",
       "    .dataframe tbody tr th {\n",
       "        vertical-align: top;\n",
       "    }\n",
       "\n",
       "    .dataframe thead th {\n",
       "        text-align: right;\n",
       "    }\n",
       "</style>\n",
       "<table border=\"1\" class=\"dataframe\">\n",
       "  <thead>\n",
       "    <tr style=\"text-align: right;\">\n",
       "      <th></th>\n",
       "      <th>src</th>\n",
       "      <th>dst</th>\n",
       "      <th>articles_count</th>\n",
       "      <th>articles_ids</th>\n",
       "      <th>articles_categories</th>\n",
       "      <th>articles_update_date</th>\n",
       "      <th>articles_update_date_exploded</th>\n",
       "    </tr>\n",
       "  </thead>\n",
       "  <tbody>\n",
       "    <tr>\n",
       "      <th>0</th>\n",
       "      <td>Iliev Bozhidar Z.  Institute for Nuclear Resea...</td>\n",
       "      <td>Iliev Bozhidar Z.  Institute for Nuclear Resea...</td>\n",
       "      <td>1</td>\n",
       "      <td>[0704.0066]</td>\n",
       "      <td>[[hep-th]]</td>\n",
       "      <td>[2007-05-23]</td>\n",
       "      <td>2007-05-23</td>\n",
       "    </tr>\n",
       "    <tr>\n",
       "      <th>1</th>\n",
       "      <td>Schekochihin A. A.  Oxford</td>\n",
       "      <td>Quataert E.  Berkeley</td>\n",
       "      <td>1</td>\n",
       "      <td>[0704.0044]</td>\n",
       "      <td>[[astro-ph, nlin.CD, physics.plasm-ph, physics...</td>\n",
       "      <td>[2015-05-13]</td>\n",
       "      <td>2015-05-13</td>\n",
       "    </tr>\n",
       "    <tr>\n",
       "      <th>2</th>\n",
       "      <td>Schekochihin A. A.  Oxford</td>\n",
       "      <td>Dorland W.  Maryland</td>\n",
       "      <td>1</td>\n",
       "      <td>[0704.0044]</td>\n",
       "      <td>[[astro-ph, nlin.CD, physics.plasm-ph, physics...</td>\n",
       "      <td>[2015-05-13]</td>\n",
       "      <td>2015-05-13</td>\n",
       "    </tr>\n",
       "    <tr>\n",
       "      <th>3</th>\n",
       "      <td>Schekochihin A. A.  Oxford</td>\n",
       "      <td>Hammett G. W.  Princeton</td>\n",
       "      <td>1</td>\n",
       "      <td>[0704.0044]</td>\n",
       "      <td>[[astro-ph, nlin.CD, physics.plasm-ph, physics...</td>\n",
       "      <td>[2015-05-13]</td>\n",
       "      <td>2015-05-13</td>\n",
       "    </tr>\n",
       "    <tr>\n",
       "      <th>4</th>\n",
       "      <td>Schekochihin A. A.  Oxford</td>\n",
       "      <td>Tatsuno T.  Maryland</td>\n",
       "      <td>1</td>\n",
       "      <td>[0704.0044]</td>\n",
       "      <td>[[astro-ph, nlin.CD, physics.plasm-ph, physics...</td>\n",
       "      <td>[2015-05-13]</td>\n",
       "      <td>2015-05-13</td>\n",
       "    </tr>\n",
       "  </tbody>\n",
       "</table>\n",
       "</div>"
      ],
      "text/plain": [
       "                                                 src  \\\n",
       "0  Iliev Bozhidar Z.  Institute for Nuclear Resea...   \n",
       "1                         Schekochihin A. A.  Oxford   \n",
       "2                         Schekochihin A. A.  Oxford   \n",
       "3                         Schekochihin A. A.  Oxford   \n",
       "4                         Schekochihin A. A.  Oxford   \n",
       "\n",
       "                                                 dst  articles_count  \\\n",
       "0  Iliev Bozhidar Z.  Institute for Nuclear Resea...               1   \n",
       "1                              Quataert E.  Berkeley               1   \n",
       "2                               Dorland W.  Maryland               1   \n",
       "3                           Hammett G. W.  Princeton               1   \n",
       "4                               Tatsuno T.  Maryland               1   \n",
       "\n",
       "  articles_ids                                articles_categories  \\\n",
       "0  [0704.0066]                                         [[hep-th]]   \n",
       "1  [0704.0044]  [[astro-ph, nlin.CD, physics.plasm-ph, physics...   \n",
       "2  [0704.0044]  [[astro-ph, nlin.CD, physics.plasm-ph, physics...   \n",
       "3  [0704.0044]  [[astro-ph, nlin.CD, physics.plasm-ph, physics...   \n",
       "4  [0704.0044]  [[astro-ph, nlin.CD, physics.plasm-ph, physics...   \n",
       "\n",
       "  articles_update_date articles_update_date_exploded  \n",
       "0         [2007-05-23]                    2007-05-23  \n",
       "1         [2015-05-13]                    2015-05-13  \n",
       "2         [2015-05-13]                    2015-05-13  \n",
       "3         [2015-05-13]                    2015-05-13  \n",
       "4         [2015-05-13]                    2015-05-13  "
      ]
     },
     "execution_count": 27,
     "metadata": {},
     "output_type": "execute_result"
    }
   ],
   "source": [
    "edges_statistics = edges_statistics.withColumn('articles_update_date_exploded', f.to_timestamp(f.col('articles_update_date_exploded'), format='yyyy-MM-dd'))\n",
    "edges_statistics.limit(5).toPandas()"
   ]
  },
  {
   "cell_type": "code",
   "execution_count": 28,
   "metadata": {},
   "outputs": [
    {
     "name": "stdout",
     "output_type": "stream",
     "text": [
      "root\n",
      " |-- src: string (nullable = true)\n",
      " |-- dst: string (nullable = true)\n",
      " |-- articles_count: long (nullable = true)\n",
      " |-- articles_ids: array (nullable = true)\n",
      " |    |-- element: string (containsNull = true)\n",
      " |-- articles_categories: array (nullable = true)\n",
      " |    |-- element: array (containsNull = true)\n",
      " |    |    |-- element: string (containsNull = true)\n",
      " |-- articles_update_date: array (nullable = true)\n",
      " |    |-- element: string (containsNull = true)\n",
      " |-- articles_update_date_exploded: timestamp (nullable = true)\n",
      "\n"
     ]
    }
   ],
   "source": [
    "edges_statistics.printSchema()"
   ]
  },
  {
   "cell_type": "code",
   "execution_count": 29,
   "metadata": {},
   "outputs": [],
   "source": [
    "window = Window().orderBy('articles_update_date_exploded').partitionBy('src')"
   ]
  },
  {
   "cell_type": "code",
   "execution_count": 30,
   "metadata": {},
   "outputs": [
    {
     "data": {
      "text/html": [
       "<div>\n",
       "<style scoped>\n",
       "    .dataframe tbody tr th:only-of-type {\n",
       "        vertical-align: middle;\n",
       "    }\n",
       "\n",
       "    .dataframe tbody tr th {\n",
       "        vertical-align: top;\n",
       "    }\n",
       "\n",
       "    .dataframe thead th {\n",
       "        text-align: right;\n",
       "    }\n",
       "</style>\n",
       "<table border=\"1\" class=\"dataframe\">\n",
       "  <thead>\n",
       "    <tr style=\"text-align: right;\">\n",
       "      <th></th>\n",
       "      <th>author</th>\n",
       "      <th>timespan</th>\n",
       "    </tr>\n",
       "  </thead>\n",
       "  <tbody>\n",
       "    <tr>\n",
       "      <th>0</th>\n",
       "      <td>Chen Xiao-Lin</td>\n",
       "      <td>2</td>\n",
       "    </tr>\n",
       "    <tr>\n",
       "      <th>1</th>\n",
       "      <td>Deng Wei-Zhen</td>\n",
       "      <td>2</td>\n",
       "    </tr>\n",
       "    <tr>\n",
       "      <th>2</th>\n",
       "      <td>Grabec I.</td>\n",
       "      <td>2</td>\n",
       "    </tr>\n",
       "    <tr>\n",
       "      <th>3</th>\n",
       "      <td>Hoekstra Alfons G.</td>\n",
       "      <td>2</td>\n",
       "    </tr>\n",
       "    <tr>\n",
       "      <th>4</th>\n",
       "      <td>Kosel T.</td>\n",
       "      <td>2</td>\n",
       "    </tr>\n",
       "  </tbody>\n",
       "</table>\n",
       "</div>"
      ],
      "text/plain": [
       "                author  timespan\n",
       "0       Chen Xiao-Lin          2\n",
       "1       Deng Wei-Zhen          2\n",
       "2           Grabec I.          2\n",
       "3  Hoekstra Alfons G.          2\n",
       "4            Kosel T.          2"
      ]
     },
     "execution_count": 30,
     "metadata": {},
     "output_type": "execute_result"
    }
   ],
   "source": [
    "timespan_data = edges_statistics.withColumn('timespan', f.year(f.last('articles_update_date_exploded').over(window)) - f.year(f.first('articles_update_date_exploded').over(window)))\n",
    "timespan_data = timespan_data.select('src', 'timespan').withColumnRenamed('src', 'author').dropDuplicates()\n",
    "timespan_data.sort('timespan', ascending=False).limit(5).toPandas()"
   ]
  },
  {
   "cell_type": "code",
   "execution_count": 31,
   "metadata": {},
   "outputs": [],
   "source": [
    "timespan_data.write.mode(\"overwrite\").parquet('../data/single-node-analysis/timespan')"
   ]
  },
  {
   "cell_type": "markdown",
   "metadata": {},
   "source": [
    "## The clustering coefficient"
   ]
  },
  {
   "cell_type": "markdown",
   "metadata": {},
   "source": [
    "### Global clustering"
   ]
  },
  {
   "cell_type": "code",
   "execution_count": 32,
   "metadata": {},
   "outputs": [
    {
     "name": "stderr",
     "output_type": "stream",
     "text": [
      "                                                                                \r"
     ]
    },
    {
     "name": "stdout",
     "output_type": "stream",
     "text": [
      "+---------------+-------------------------+\n",
      "|closed-triplets|id                       |\n",
      "+---------------+-------------------------+\n",
      "|0              |Abu-Shammala Wael        |\n",
      "|3              |Balázs C.                |\n",
      "|36             |Bakos G. A.              |\n",
      "|0              |Abbas Afsar              |\n",
      "|0              |Aubert B.                |\n",
      "|0              |Abuhlail J. Y.           |\n",
      "|1              |Abed S. H.               |\n",
      "|0              |Aujla Jaspal Singh       |\n",
      "|0              |Barvinsky A. O.          |\n",
      "|0              |Audenaert Koenraad M. R. |\n",
      "+---------------+-------------------------+\n",
      "only showing top 10 rows\n",
      "\n"
     ]
    }
   ],
   "source": [
    "triangle_count = g.triangleCount()\n",
    "triangle_count = triangle_count.withColumnRenamed('count', 'closed-triplets')\n",
    "triangle_count.show(10, truncate=False)"
   ]
  },
  {
   "cell_type": "code",
   "execution_count": 33,
   "metadata": {},
   "outputs": [
    {
     "name": "stderr",
     "output_type": "stream",
     "text": [
      "                                                                                \r"
     ]
    }
   ],
   "source": [
    "triangle_count.withColumnRenamed('id', 'author').write.mode('overwrite').parquet('../data/single-node-analysis/triangle-count')"
   ]
  },
  {
   "cell_type": "code",
   "execution_count": 34,
   "metadata": {},
   "outputs": [],
   "source": [
    "shortest_paths = spark.read.parquet('../data/single-node-analysis/shortest-paths/*.parquet')"
   ]
  },
  {
   "cell_type": "code",
   "execution_count": 35,
   "metadata": {},
   "outputs": [
    {
     "name": "stdout",
     "output_type": "stream",
     "text": [
      "+------------------+------------+\n",
      "|                id|   distances|\n",
      "+------------------+------------+\n",
      "|      Abbas Afsar |         [0]|\n",
      "|       Abed S. H. |   [0, 1, 1]|\n",
      "|Abu-Shammala Wael |      [0, 1]|\n",
      "|   Abuhlail J. Y. |      [0, 1]|\n",
      "|    Assaf Michael |[1, 1, 0, 1]|\n",
      "+------------------+------------+\n",
      "only showing top 5 rows\n",
      "\n"
     ]
    }
   ],
   "source": [
    "shortest_paths = shortest_paths.withColumn('distances', f.map_values(f.col('distances')))\n",
    "shortest_paths.show(5)\n",
    "shortest_paths = shortest_paths.withColumn('distances', f.explode(f.col('distances')))"
   ]
  },
  {
   "cell_type": "code",
   "execution_count": 36,
   "metadata": {},
   "outputs": [
    {
     "name": "stdout",
     "output_type": "stream",
     "text": [
      "+-----------+---------+\n",
      "|         id|distances|\n",
      "+-----------+---------+\n",
      "|Chen Chong |        2|\n",
      "| Liu Xiang |        2|\n",
      "|  Shu Zhan |        2|\n",
      "|  Shu Zhan |        2|\n",
      "|  Shu Zhan |        2|\n",
      "+-----------+---------+\n",
      "only showing top 5 rows\n",
      "\n"
     ]
    }
   ],
   "source": [
    "shortest_paths = shortest_paths.filter(f.col('distances') == 2)\n",
    "shortest_paths.show(5)"
   ]
  },
  {
   "cell_type": "code",
   "execution_count": 37,
   "metadata": {},
   "outputs": [
    {
     "name": "stdout",
     "output_type": "stream",
     "text": [
      "+------------+--------------------+\n",
      "|          id|open-closed-triplets|\n",
      "+------------+--------------------+\n",
      "|  Liu Xiang |                   1|\n",
      "| Chen Chong |                   1|\n",
      "|   Shu Zhan |                   3|\n",
      "|Zhu Shi-Lin |                   1|\n",
      "+------------+--------------------+\n",
      "\n"
     ]
    }
   ],
   "source": [
    "shortest_paths = shortest_paths.groupBy('id').count().withColumnRenamed('count', 'open-closed-triplets')\n",
    "shortest_paths.show(5)"
   ]
  },
  {
   "cell_type": "code",
   "execution_count": 38,
   "metadata": {},
   "outputs": [
    {
     "name": "stderr",
     "output_type": "stream",
     "text": [
      "                                                                                \r"
     ]
    }
   ],
   "source": [
    "nb_closed_triplets = triangle_count.select('closed-triplets').rdd.map(lambda x: (1, x[0])).reduceByKey(lambda y1, y2: y1 + y2).collect()[0][1]"
   ]
  },
  {
   "cell_type": "code",
   "execution_count": 39,
   "metadata": {},
   "outputs": [],
   "source": [
    "nb_open_triplets = shortest_paths.select('open-closed-triplets').rdd.map(lambda x: (1, x[0])).reduceByKey(lambda y1, y2: y1 + y2).collect()[0][1] + nb_closed_triplets"
   ]
  },
  {
   "cell_type": "code",
   "execution_count": 40,
   "metadata": {},
   "outputs": [
    {
     "data": {
      "text/plain": [
       "0.9968404423380727"
      ]
     },
     "execution_count": 40,
     "metadata": {},
     "output_type": "execute_result"
    }
   ],
   "source": [
    "clustering_coefficient = nb_closed_triplets / nb_open_triplets\n",
    "clustering_coefficient"
   ]
  },
  {
   "cell_type": "markdown",
   "metadata": {},
   "source": [
    "### Local clustering"
   ]
  },
  {
   "cell_type": "code",
   "execution_count": 41,
   "metadata": {},
   "outputs": [
    {
     "name": "stdout",
     "output_type": "stream",
     "text": [
      "+--------------------+------+\n",
      "|              author|degree|\n",
      "+--------------------+------+\n",
      "|Iliev Bozhidar Z....|     2|\n",
      "|        Abbas Afsar |     2|\n",
      "|  Abu-Shammala Wael |     2|\n",
      "|Tolstoy V. N.  IN...|     2|\n",
      "| Torchinsky Alberto |     2|\n",
      "+--------------------+------+\n",
      "only showing top 5 rows\n",
      "\n"
     ]
    }
   ],
   "source": [
    "degree_centrality = spark.read.parquet('../data/single-node-analysis/degree-centrality/*.parquet')\n",
    "degree_centrality.orderBy('degree', ascending=True).show(5)"
   ]
  },
  {
   "cell_type": "code",
   "execution_count": 42,
   "metadata": {},
   "outputs": [
    {
     "name": "stdout",
     "output_type": "stream",
     "text": [
      "+---------------+-------------------+\n",
      "|closed-triplets|             author|\n",
      "+---------------+-------------------+\n",
      "|           52.0|        Bloomer Ed |\n",
      "|           52.0|       Veitch John |\n",
      "|           52.0|    Toher Jennifer |\n",
      "|           52.0|      Meyer Renate |\n",
      "|           52.0|Christensen Nelson |\n",
      "+---------------+-------------------+\n",
      "only showing top 5 rows\n",
      "\n"
     ]
    }
   ],
   "source": [
    "triangle_count = spark.read.parquet('../data/single-node-analysis/triangle-count/*.parquet')\n",
    "triangle_count = triangle_count.withColumn('closed-triplets', 2*f.col('closed-triplets')/3)\n",
    "triangle_count.orderBy('closed-triplets', ascending=False).show(5)"
   ]
  },
  {
   "cell_type": "code",
   "execution_count": 43,
   "metadata": {},
   "outputs": [
    {
     "name": "stdout",
     "output_type": "stream",
     "text": [
      "+----------------+------+---------------+----------------------------+\n",
      "|          author|degree|closed-triplets|local_clustering_coefficient|\n",
      "+----------------+------+---------------+----------------------------+\n",
      "| Toher Jennifer |    26|           52.0|                        0.08|\n",
      "|  Everett M. E. |    18|           24.0|                        0.08|\n",
      "|  Hendry Martin |    26|           52.0|                        0.08|\n",
      "|Myers Philip C. |    12|           10.0|                        0.08|\n",
      "|    Bakos G. A. |    18|           24.0|                        0.08|\n",
      "+----------------+------+---------------+----------------------------+\n",
      "only showing top 5 rows\n",
      "\n"
     ]
    }
   ],
   "source": [
    "local_clustering_coefficient = degree_centrality.join(triangle_count, on='author')\n",
    "local_clustering_coefficient = local_clustering_coefficient.withColumn('local_clustering_coefficient', f.round(f.col('closed-triplets') / (f.col('degree') * (f.col('degree') - 1)), scale = 2))\n",
    "local_clustering_coefficient.orderBy('local_clustering_coefficient', ascending=False).show(5)"
   ]
  },
  {
   "cell_type": "code",
   "execution_count": 44,
   "metadata": {},
   "outputs": [],
   "source": [
    "local_clustering_coefficient.select('author', 'local_clustering_coefficient').write.mode('overwrite').parquet('../data/single-node-analysis/local_clustering_coefficient')"
   ]
  }
 ],
 "metadata": {
  "interpreter": {
   "hash": "aee8b7b246df8f9039afb4144a1f6fd8d2ca17a180786b69acc140d282b71a49"
  },
  "kernelspec": {
   "display_name": "Python 3.9.9 64-bit",
   "language": "python",
   "name": "python3"
  },
  "language_info": {
   "codemirror_mode": {
    "name": "ipython",
    "version": 3
   },
   "file_extension": ".py",
   "mimetype": "text/x-python",
   "name": "python",
   "nbconvert_exporter": "python",
   "pygments_lexer": "ipython3",
   "version": "3.9.9"
  },
  "orig_nbformat": 4
 },
 "nbformat": 4,
 "nbformat_minor": 2
}
