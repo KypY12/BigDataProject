{
 "cells": [
  {
   "cell_type": "markdown",
   "metadata": {},
   "source": [
    "# Single node analysis"
   ]
  },
  {
   "cell_type": "code",
   "execution_count": 1,
   "metadata": {},
   "outputs": [],
   "source": [
    "from pyspark.sql import SparkSession\n",
    "from pyspark.context import SparkContext\n",
    "from pyspark.sql import SQLContext\n",
    "\n",
    "from pyspark.sql import functions as f\n",
    "from pyspark.sql import types as T\n",
    "from pyspark.sql import Window\n",
    "\n",
    "import os"
   ]
  },
  {
   "cell_type": "code",
   "execution_count": 2,
   "metadata": {},
   "outputs": [
    {
     "name": "stderr",
     "output_type": "stream",
     "text": [
      "/home/ubuntu/.local/lib/python3.6/site-packages/pyspark/context.py:238: FutureWarning: Python 3.6 support is deprecated in Spark 3.2.\n",
      "  FutureWarning\n",
      "/home/ubuntu/.local/lib/python3.6/site-packages/pyspark/sql/context.py:79: FutureWarning: Deprecated in 3.0.0. Use SparkSession.builder.getOrCreate() instead.\n",
      "  FutureWarning\n"
     ]
    }
   ],
   "source": [
    "spark = SparkSession.builder.appName(\"Python Spark SQL\").config(\"spark.jars.packages\", \"graphframes:graphframes:0.8.2-spark3.2-s_2.12\").config(\"spark.executor.memory\", \"8g\").getOrCreate()\n",
    "sqlContext = SQLContext(spark.sparkContext)"
   ]
  },
  {
   "cell_type": "code",
   "execution_count": 3,
   "metadata": {},
   "outputs": [],
   "source": [
    "from graphframes import *"
   ]
  },
  {
   "cell_type": "markdown",
   "metadata": {},
   "source": [
    "## Prepare data"
   ]
  },
  {
   "cell_type": "code",
   "execution_count": 4,
   "metadata": {},
   "outputs": [],
   "source": [
    "vertices = spark.read.parquet('/user/data/graph_with_more_info/vertices/*.parquet')\n",
    "edges = spark.read.parquet('/user/data/graph_with_more_info/edges/*.parquet')"
   ]
  },
  {
   "cell_type": "code",
   "execution_count": 5,
   "metadata": {},
   "outputs": [
    {
     "name": "stdout",
     "output_type": "stream",
     "text": [
      "+--------------------+\n",
      "|                  id|\n",
      "+--------------------+\n",
      "|de Azevedo Anibal...|\n",
      "|de Azevedo E. R. ...|\n",
      "|de Azevedo Fabio ...|\n",
      "|de Azevedo J. L. ...|\n",
      "|de Azevedo L. J. ...|\n",
      "+--------------------+\n",
      "only showing top 5 rows\n",
      "\n"
     ]
    }
   ],
   "source": [
    "vertices.show(5)"
   ]
  },
  {
   "cell_type": "code",
   "execution_count": 6,
   "metadata": {},
   "outputs": [
    {
     "name": "stdout",
     "output_type": "stream",
     "text": [
      "+--------------+---------------+--------------+------------------+------------------+\n",
      "|           src|            dst|articles_count|oldest_update_date|newest_update_date|\n",
      "+--------------+---------------+--------------+------------------+------------------+\n",
      "|\"Osterberg K. |     Garcia F. |             1|        2021-08-11|        2021-08-11|\n",
      "|\"Osterberg K. |Gr\"unendahl S. |             1|        2021-08-11|        2021-08-11|\n",
      "|       \"oser  |       Bose D. |             1|        2016-08-14|        2016-08-14|\n",
      "|       \"oser  |    Geisler M. |             1|        2016-08-14|        2016-08-14|\n",
      "|       \"oser  |  Johansson H. |             1|        2016-08-14|        2016-08-14|\n",
      "+--------------+---------------+--------------+------------------+------------------+\n",
      "only showing top 5 rows\n",
      "\n"
     ]
    }
   ],
   "source": [
    "edges.show(5)"
   ]
  },
  {
   "cell_type": "markdown",
   "metadata": {},
   "source": [
    "### Prepare only a sample of 10k vertices"
   ]
  },
  {
   "cell_type": "code",
   "execution_count": 7,
   "metadata": {},
   "outputs": [],
   "source": [
    "vertices = vertices.sample(fraction=0.006)"
   ]
  },
  {
   "cell_type": "code",
   "execution_count": 8,
   "metadata": {},
   "outputs": [],
   "source": [
    "all_vertices = list(vertices.select('id').rdd.map(lambda x: (1, x)).reduceByKey(lambda x1, x2: x1 + x2).collect()[0][1])"
   ]
  },
  {
   "cell_type": "code",
   "execution_count": 9,
   "metadata": {},
   "outputs": [
    {
     "data": {
      "text/plain": [
       "9609"
      ]
     },
     "execution_count": 9,
     "metadata": {},
     "output_type": "execute_result"
    }
   ],
   "source": [
    "len(all_vertices)"
   ]
  },
  {
   "cell_type": "code",
   "execution_count": 10,
   "metadata": {},
   "outputs": [],
   "source": [
    "edges = edges.filter((f.col(\"src\").isin(all_vertices)) & (f.col(\"dst\").isin(all_vertices)))"
   ]
  },
  {
   "cell_type": "code",
   "execution_count": 11,
   "metadata": {},
   "outputs": [
    {
     "name": "stdout",
     "output_type": "stream",
     "text": [
      "+--------------------+\n",
      "|                  id|\n",
      "+--------------------+\n",
      "|de Azevedo E. R. ...|\n",
      "|       de Bruijn O. |\n",
      "|      de Camargo A. |\n",
      "|de Castro Davi Fe...|\n",
      "|de Cataldo Mark A...|\n",
      "+--------------------+\n",
      "only showing top 5 rows\n",
      "\n"
     ]
    }
   ],
   "source": [
    "vertices.show(5)"
   ]
  },
  {
   "cell_type": "code",
   "execution_count": 12,
   "metadata": {},
   "outputs": [
    {
     "name": "stdout",
     "output_type": "stream",
     "text": [
      "+-----------------+------------------+--------------+------------------+------------------+\n",
      "|              src|               dst|articles_count|oldest_update_date|newest_update_date|\n",
      "+-----------------+------------------+--------------+------------------+------------------+\n",
      "|        Abreu P. |Bertolli C. Pérez |             7|        2021-04-16|        2021-12-14|\n",
      "|Alekseyev Max A. |   Alexeev Nikita |             5|        2015-04-07|        2019-11-27|\n",
      "|   Barclay S. E. |      e A. Vicer' |             1|        2019-11-19|        2019-11-19|\n",
      "|        Cella G. |            Li B. |            26|        2021-03-22|        2022-01-04|\n",
      "|   Cornish N. J. |            Li B. |             5|        2021-11-22|        2022-01-04|\n",
      "+-----------------+------------------+--------------+------------------+------------------+\n",
      "only showing top 5 rows\n",
      "\n"
     ]
    }
   ],
   "source": [
    "edges.show(5)"
   ]
  },
  {
   "cell_type": "code",
   "execution_count": 13,
   "metadata": {},
   "outputs": [],
   "source": [
    "vertex_example = all_vertices[0]"
   ]
  },
  {
   "cell_type": "code",
   "execution_count": 14,
   "metadata": {},
   "outputs": [],
   "source": [
    "g = GraphFrame(vertices, edges)"
   ]
  },
  {
   "cell_type": "markdown",
   "metadata": {},
   "source": [
    "## Degree centrality (DC)\n"
   ]
  },
  {
   "cell_type": "code",
   "execution_count": 15,
   "metadata": {},
   "outputs": [
    {
     "name": "stdout",
     "output_type": "stream",
     "text": [
      "+---+------+\n",
      "| id|degree|\n",
      "+---+------+\n",
      "+---+------+\n",
      "\n"
     ]
    }
   ],
   "source": [
    "g.degrees.where(f.col(\"id\") == vertex_example).show()"
   ]
  },
  {
   "cell_type": "code",
   "execution_count": 16,
   "metadata": {},
   "outputs": [],
   "source": [
    "degree_centrality = g.degrees\n",
    "degree_centrality = degree_centrality.withColumnRenamed('id', 'author')"
   ]
  },
  {
   "cell_type": "code",
   "execution_count": 17,
   "metadata": {},
   "outputs": [
    {
     "name": "stdout",
     "output_type": "stream",
     "text": [
      "+--------------------+------+\n",
      "|              author|degree|\n",
      "+--------------------+------+\n",
      "|De La Cruz-Burelo...|    84|\n",
      "|            Wang F. |    80|\n",
      "|           Huang J. |    78|\n",
      "|             Cho K. |    72|\n",
      "|           Cella G. |    66|\n",
      "|           White S. |    60|\n",
      "|        Mladenov D. |    60|\n",
      "|      Karyotakis Y. |    60|\n",
      "|   van Veggel A. A. |    56|\n",
      "|         Liolios A. |    54|\n",
      "+--------------------+------+\n",
      "only showing top 10 rows\n",
      "\n"
     ]
    }
   ],
   "source": [
    "degree_centrality.orderBy(\"degree\", ascending=False).show(10)"
   ]
  },
  {
   "cell_type": "code",
   "execution_count": 18,
   "metadata": {},
   "outputs": [],
   "source": [
    "degree_centrality.write.mode(\"overwrite\").parquet('../data/single-node-analysis/degree-centrality')"
   ]
  },
  {
   "cell_type": "markdown",
   "metadata": {},
   "source": [
    "## Betweenness centrality (BC)"
   ]
  },
  {
   "cell_type": "code",
   "execution_count": 19,
   "metadata": {},
   "outputs": [
    {
     "data": {
      "text/plain": [
       "['Hurand S. ',\n",
       " 'Hurley H. ',\n",
       " 'Hurley K.  SSL, Univ. Berkeley',\n",
       " 'Hurtado Mauricio Reyes ',\n",
       " 'Husain Mushahid ']"
      ]
     },
     "execution_count": 19,
     "metadata": {},
     "output_type": "execute_result"
    }
   ],
   "source": [
    "all_vertices[:5]"
   ]
  },
  {
   "cell_type": "code",
   "execution_count": 20,
   "metadata": {},
   "outputs": [
    {
     "name": "stdout",
     "output_type": "stream",
     "text": [
      "+--------------------+--------------------+\n",
      "|                  id|           distances|\n",
      "+--------------------+--------------------+\n",
      "|Papadopoulos Atha...|{Papadopoulos Ath...|\n",
      "|Peñate-Rodriguez ...|{Peñate-Rodriguez...|\n",
      "|  Middleton Richard |{Middleton Richar...|\n",
      "|      Ali S. Tabrez |{Ali S. Tabrez  -...|\n",
      "|Nonomura Yoshihik...|{Nonomura Yoshihi...|\n",
      "|Georgoulis Stamat...|{Georgoulis Stama...|\n",
      "|Ruitenberg Justus...|{Ruitenberg Justu...|\n",
      "|        Zhong J. F. | {Zhong J. F.  -> 0}|\n",
      "|       Rajaei Karim |{Rajaei Karim  -> 0}|\n",
      "|Stobbart A-M.  Un...|{Stobbart A-M.  U...|\n",
      "|Proshchenko Vital...|{Proshchenko Vita...|\n",
      "|Sliwa K.  The\\n  ...|{Happacher F.  Th...|\n",
      "|        Pankov Mark | {Pankov Mark  -> 0}|\n",
      "|       Flohr Fabian |{Flohr Fabian  -> 0}|\n",
      "|       Hahn Joachim |{Hahn Joachim  -> 0}|\n",
      "|      Papini Jon J. |{Papini Jon J.  -...|\n",
      "|   Mander Adrian P. |{Mander Adrian P....|\n",
      "|      Snel Ralph C. |{Snel Ralph C.  -...|\n",
      "|Park Sungwoo  LAN...|{Park Sungwoo  LA...|\n",
      "|Reznicek P.  IPNP...|{Reznicek P.  IPN...|\n",
      "+--------------------+--------------------+\n",
      "only showing top 20 rows\n",
      "\n"
     ]
    }
   ],
   "source": [
    "shortest_paths = g.shortestPaths(landmarks=all_vertices)\n",
    "shortest_paths.show()"
   ]
  },
  {
   "cell_type": "code",
   "execution_count": 21,
   "metadata": {},
   "outputs": [],
   "source": [
    "shortest_paths.write.mode('overwrite').parquet('../data/single-node-analysis/shortest-paths')"
   ]
  },
  {
   "cell_type": "code",
   "execution_count": 22,
   "metadata": {},
   "outputs": [],
   "source": [
    "shortest_paths = shortest_paths.withColumn('vertices_in_between', f.map_keys(f.col('distances')))"
   ]
  },
  {
   "cell_type": "code",
   "execution_count": 23,
   "metadata": {},
   "outputs": [
    {
     "name": "stdout",
     "output_type": "stream",
     "text": [
      "root\n",
      " |-- id: string (nullable = true)\n",
      " |-- distances: map (nullable = true)\n",
      " |    |-- key: string\n",
      " |    |-- value: integer (valueContainsNull = false)\n",
      " |-- vertices_in_between: array (nullable = true)\n",
      " |    |-- element: string (containsNull = true)\n",
      "\n"
     ]
    }
   ],
   "source": [
    "shortest_paths.printSchema()"
   ]
  },
  {
   "cell_type": "code",
   "execution_count": 24,
   "metadata": {},
   "outputs": [
    {
     "name": "stdout",
     "output_type": "stream",
     "text": [
      "+----------+-----------------+-------------------+\n",
      "|id        |distances        |vertices_in_between|\n",
      "+----------+-----------------+-------------------+\n",
      "|Hurand S. |{Hurand S.  -> 0}|[Hurand S. ]       |\n",
      "+----------+-----------------+-------------------+\n",
      "\n"
     ]
    }
   ],
   "source": [
    "shortest_paths.filter(f.col('id') == vertex_example).show(truncate=False)"
   ]
  },
  {
   "cell_type": "code",
   "execution_count": 25,
   "metadata": {},
   "outputs": [
    {
     "name": "stdout",
     "output_type": "stream",
     "text": [
      "+----------+-----------------+-------------------+----------------------------+\n",
      "|        id|        distances|vertices_in_between|vertices_in_between_exploded|\n",
      "+----------+-----------------+-------------------+----------------------------+\n",
      "|Hurand S. |{Hurand S.  -> 0}|       [Hurand S. ]|                  Hurand S. |\n",
      "+----------+-----------------+-------------------+----------------------------+\n",
      "\n"
     ]
    }
   ],
   "source": [
    "shortest_paths.withColumn('vertices_in_between_exploded', f.explode(f.col('vertices_in_between'))).filter(f.col('vertices_in_between_exploded') == vertex_example).show()"
   ]
  },
  {
   "cell_type": "code",
   "execution_count": 26,
   "metadata": {},
   "outputs": [],
   "source": [
    "betweenness_centrality = shortest_paths.withColumn('vertices_in_between_exploded', f.explode(f.col('vertices_in_between'))).groupBy('vertices_in_between_exploded').agg(\n",
    "    f.count(f.col('id'))).withColumnRenamed(\n",
    "        'vertices_in_between_exploded', 'author').withColumnRenamed('count(id)', 'degree')"
   ]
  },
  {
   "cell_type": "code",
   "execution_count": 27,
   "metadata": {},
   "outputs": [
    {
     "name": "stdout",
     "output_type": "stream",
     "text": [
      "+----------+------+\n",
      "|    author|degree|\n",
      "+----------+------+\n",
      "|Hurand S. |     1|\n",
      "+----------+------+\n",
      "\n"
     ]
    }
   ],
   "source": [
    "betweenness_centrality.filter(f.col('author') == vertex_example).show()"
   ]
  },
  {
   "cell_type": "code",
   "execution_count": 28,
   "metadata": {},
   "outputs": [
    {
     "data": {
      "text/plain": [
       "1"
      ]
     },
     "execution_count": 28,
     "metadata": {},
     "output_type": "execute_result"
    }
   ],
   "source": [
    "# Verify\n",
    "shortest_paths.filter(f.array_contains(f.col(\"vertices_in_between\"), vertex_example)).count()"
   ]
  },
  {
   "cell_type": "code",
   "execution_count": 29,
   "metadata": {},
   "outputs": [
    {
     "name": "stdout",
     "output_type": "stream",
     "text": [
      "+---------------+------+\n",
      "|         author|degree|\n",
      "+---------------+------+\n",
      "| Galimberti M. |   311|\n",
      "|      Usuki Y. |   311|\n",
      "|       Chan K. |   311|\n",
      "|      Stößl A. |   311|\n",
      "|Chakraborty A. |   311|\n",
      "|   Weidlich U. |   311|\n",
      "|    Wronska A. |   311|\n",
      "| Hidalgo S. L. |   311|\n",
      "|   Evans D. W. |   311|\n",
      "|   Montuori C. |   311|\n",
      "+---------------+------+\n",
      "only showing top 10 rows\n",
      "\n"
     ]
    }
   ],
   "source": [
    "betweenness_centrality.orderBy('degree', ascending=False).show(10)"
   ]
  },
  {
   "cell_type": "code",
   "execution_count": 30,
   "metadata": {},
   "outputs": [],
   "source": [
    "betweenness_centrality.write.mode(\"overwrite\").parquet('../data/single-node-analysis/betweeness-centrality')"
   ]
  },
  {
   "cell_type": "markdown",
   "metadata": {},
   "source": [
    "## Timespan"
   ]
  },
  {
   "cell_type": "code",
   "execution_count": 31,
   "metadata": {},
   "outputs": [
    {
     "data": {
      "text/html": [
       "<div>\n",
       "<style scoped>\n",
       "    .dataframe tbody tr th:only-of-type {\n",
       "        vertical-align: middle;\n",
       "    }\n",
       "\n",
       "    .dataframe tbody tr th {\n",
       "        vertical-align: top;\n",
       "    }\n",
       "\n",
       "    .dataframe thead th {\n",
       "        text-align: right;\n",
       "    }\n",
       "</style>\n",
       "<table border=\"1\" class=\"dataframe\">\n",
       "  <thead>\n",
       "    <tr style=\"text-align: right;\">\n",
       "      <th></th>\n",
       "      <th>src</th>\n",
       "      <th>dst</th>\n",
       "      <th>articles_count</th>\n",
       "      <th>oldest_update_date</th>\n",
       "      <th>newest_update_date</th>\n",
       "    </tr>\n",
       "  </thead>\n",
       "  <tbody>\n",
       "    <tr>\n",
       "      <th>0</th>\n",
       "      <td>Abreu P.</td>\n",
       "      <td>Bertolli C. Pérez</td>\n",
       "      <td>7</td>\n",
       "      <td>2021-04-16</td>\n",
       "      <td>2021-12-14</td>\n",
       "    </tr>\n",
       "    <tr>\n",
       "      <th>1</th>\n",
       "      <td>Alekseyev Max A.</td>\n",
       "      <td>Alexeev Nikita</td>\n",
       "      <td>5</td>\n",
       "      <td>2015-04-07</td>\n",
       "      <td>2019-11-27</td>\n",
       "    </tr>\n",
       "  </tbody>\n",
       "</table>\n",
       "</div>"
      ],
      "text/plain": [
       "                 src                 dst  articles_count oldest_update_date  \\\n",
       "0          Abreu P.   Bertolli C. Pérez                7         2021-04-16   \n",
       "1  Alekseyev Max A.      Alexeev Nikita                5         2015-04-07   \n",
       "\n",
       "  newest_update_date  \n",
       "0         2021-12-14  \n",
       "1         2019-11-27  "
      ]
     },
     "execution_count": 31,
     "metadata": {},
     "output_type": "execute_result"
    }
   ],
   "source": [
    "edges.limit(2).toPandas()"
   ]
  },
  {
   "cell_type": "code",
   "execution_count": 32,
   "metadata": {},
   "outputs": [
    {
     "name": "stdout",
     "output_type": "stream",
     "text": [
      "root\n",
      " |-- src: string (nullable = true)\n",
      " |-- dst: string (nullable = true)\n",
      " |-- articles_count: long (nullable = true)\n",
      " |-- oldest_update_date: string (nullable = true)\n",
      " |-- newest_update_date: string (nullable = true)\n",
      "\n"
     ]
    }
   ],
   "source": [
    "edges.printSchema()"
   ]
  },
  {
   "cell_type": "code",
   "execution_count": 33,
   "metadata": {},
   "outputs": [],
   "source": [
    "# edges_statistics = edges.withColumn('articles_update_date_exploded', f.explode(f.col('articles_update_date')))\n",
    "# edges_statistics.limit(5).toPandas()"
   ]
  },
  {
   "cell_type": "code",
   "execution_count": 34,
   "metadata": {},
   "outputs": [
    {
     "data": {
      "text/html": [
       "<div>\n",
       "<style scoped>\n",
       "    .dataframe tbody tr th:only-of-type {\n",
       "        vertical-align: middle;\n",
       "    }\n",
       "\n",
       "    .dataframe tbody tr th {\n",
       "        vertical-align: top;\n",
       "    }\n",
       "\n",
       "    .dataframe thead th {\n",
       "        text-align: right;\n",
       "    }\n",
       "</style>\n",
       "<table border=\"1\" class=\"dataframe\">\n",
       "  <thead>\n",
       "    <tr style=\"text-align: right;\">\n",
       "      <th></th>\n",
       "      <th>src</th>\n",
       "      <th>dst</th>\n",
       "      <th>articles_count</th>\n",
       "      <th>oldest_update_date</th>\n",
       "      <th>newest_update_date</th>\n",
       "    </tr>\n",
       "  </thead>\n",
       "  <tbody>\n",
       "    <tr>\n",
       "      <th>0</th>\n",
       "      <td>Abreu P.</td>\n",
       "      <td>Bertolli C. Pérez</td>\n",
       "      <td>7</td>\n",
       "      <td>2021-04-16</td>\n",
       "      <td>2021-12-14</td>\n",
       "    </tr>\n",
       "    <tr>\n",
       "      <th>1</th>\n",
       "      <td>Alekseyev Max A.</td>\n",
       "      <td>Alexeev Nikita</td>\n",
       "      <td>5</td>\n",
       "      <td>2015-04-07</td>\n",
       "      <td>2019-11-27</td>\n",
       "    </tr>\n",
       "    <tr>\n",
       "      <th>2</th>\n",
       "      <td>Barclay S. E.</td>\n",
       "      <td>e A. Vicer'</td>\n",
       "      <td>1</td>\n",
       "      <td>2019-11-19</td>\n",
       "      <td>2019-11-19</td>\n",
       "    </tr>\n",
       "    <tr>\n",
       "      <th>3</th>\n",
       "      <td>Cella G.</td>\n",
       "      <td>Li B.</td>\n",
       "      <td>26</td>\n",
       "      <td>2021-03-22</td>\n",
       "      <td>2022-01-04</td>\n",
       "    </tr>\n",
       "    <tr>\n",
       "      <th>4</th>\n",
       "      <td>Cornish N. J.</td>\n",
       "      <td>Li B.</td>\n",
       "      <td>5</td>\n",
       "      <td>2021-11-22</td>\n",
       "      <td>2022-01-04</td>\n",
       "    </tr>\n",
       "  </tbody>\n",
       "</table>\n",
       "</div>"
      ],
      "text/plain": [
       "                 src                 dst  articles_count oldest_update_date  \\\n",
       "0          Abreu P.   Bertolli C. Pérez                7         2021-04-16   \n",
       "1  Alekseyev Max A.      Alexeev Nikita                5         2015-04-07   \n",
       "2     Barclay S. E.         e A. Vicer'                1         2019-11-19   \n",
       "3          Cella G.               Li B.               26         2021-03-22   \n",
       "4     Cornish N. J.               Li B.                5         2021-11-22   \n",
       "\n",
       "  newest_update_date  \n",
       "0         2021-12-14  \n",
       "1         2019-11-27  \n",
       "2         2019-11-19  \n",
       "3         2022-01-04  \n",
       "4         2022-01-04  "
      ]
     },
     "execution_count": 34,
     "metadata": {},
     "output_type": "execute_result"
    }
   ],
   "source": [
    "edges_statistics = edges\n",
    "edges_statistics = edges_statistics.withColumn('oldest_update_date', f.to_timestamp(f.col('oldest_update_date'), format='yyyy-MM-dd'))\n",
    "edges_statistics = edges_statistics.withColumn('newest_update_date', f.to_timestamp(f.col('newest_update_date'), format='yyyy-MM-dd'))\n",
    "edges_statistics.limit(5).toPandas()"
   ]
  },
  {
   "cell_type": "code",
   "execution_count": 35,
   "metadata": {},
   "outputs": [
    {
     "name": "stdout",
     "output_type": "stream",
     "text": [
      "root\n",
      " |-- src: string (nullable = true)\n",
      " |-- dst: string (nullable = true)\n",
      " |-- articles_count: long (nullable = true)\n",
      " |-- oldest_update_date: timestamp (nullable = true)\n",
      " |-- newest_update_date: timestamp (nullable = true)\n",
      "\n"
     ]
    }
   ],
   "source": [
    "edges_statistics.printSchema()"
   ]
  },
  {
   "cell_type": "code",
   "execution_count": 36,
   "metadata": {},
   "outputs": [],
   "source": [
    "window = Window().orderBy('oldest_update_date', 'newest_update_date').partitionBy('src')"
   ]
  },
  {
   "cell_type": "code",
   "execution_count": 37,
   "metadata": {},
   "outputs": [
    {
     "data": {
      "text/html": [
       "<div>\n",
       "<style scoped>\n",
       "    .dataframe tbody tr th:only-of-type {\n",
       "        vertical-align: middle;\n",
       "    }\n",
       "\n",
       "    .dataframe tbody tr th {\n",
       "        vertical-align: top;\n",
       "    }\n",
       "\n",
       "    .dataframe thead th {\n",
       "        text-align: right;\n",
       "    }\n",
       "</style>\n",
       "<table border=\"1\" class=\"dataframe\">\n",
       "  <thead>\n",
       "    <tr style=\"text-align: right;\">\n",
       "      <th></th>\n",
       "      <th>author</th>\n",
       "      <th>timespan</th>\n",
       "    </tr>\n",
       "  </thead>\n",
       "  <tbody>\n",
       "    <tr>\n",
       "      <th>0</th>\n",
       "      <td>Apyan A.</td>\n",
       "      <td>15</td>\n",
       "    </tr>\n",
       "    <tr>\n",
       "      <th>1</th>\n",
       "      <td>Marcello S.</td>\n",
       "      <td>15</td>\n",
       "    </tr>\n",
       "    <tr>\n",
       "      <th>2</th>\n",
       "      <td>Kulessa P.</td>\n",
       "      <td>14</td>\n",
       "    </tr>\n",
       "    <tr>\n",
       "      <th>3</th>\n",
       "      <td>Grenier G.</td>\n",
       "      <td>14</td>\n",
       "    </tr>\n",
       "    <tr>\n",
       "      <th>4</th>\n",
       "      <td>Marcello S.</td>\n",
       "      <td>14</td>\n",
       "    </tr>\n",
       "  </tbody>\n",
       "</table>\n",
       "</div>"
      ],
      "text/plain": [
       "         author  timespan\n",
       "0     Apyan A.         15\n",
       "1  Marcello S.         15\n",
       "2   Kulessa P.         14\n",
       "3   Grenier G.         14\n",
       "4  Marcello S.         14"
      ]
     },
     "execution_count": 37,
     "metadata": {},
     "output_type": "execute_result"
    }
   ],
   "source": [
    "timespan_data = edges_statistics.withColumn('timespan', f.year(f.last('newest_update_date').over(window)) - f.year(f.first('oldest_update_date').over(window)))\n",
    "timespan_data = timespan_data.select('src', 'timespan').withColumnRenamed('src', 'author').dropDuplicates()\n",
    "timespan_data.sort('timespan', ascending=False).limit(5).toPandas()"
   ]
  },
  {
   "cell_type": "code",
   "execution_count": 38,
   "metadata": {},
   "outputs": [],
   "source": [
    "timespan_data.write.mode(\"overwrite\").parquet('../data/single-node-analysis/timespan')"
   ]
  },
  {
   "cell_type": "markdown",
   "metadata": {},
   "source": [
    "## The clustering coefficient"
   ]
  },
  {
   "cell_type": "markdown",
   "metadata": {},
   "source": [
    "### Global clustering"
   ]
  },
  {
   "cell_type": "code",
   "execution_count": 39,
   "metadata": {},
   "outputs": [
    {
     "name": "stdout",
     "output_type": "stream",
     "text": [
      "+---------------+------------------------------------+\n",
      "|closed-triplets|id                                  |\n",
      "+---------------+------------------------------------+\n",
      "|0              |Huwe Bernd                          |\n",
      "|0              |Huynh Vu Anh                        |\n",
      "|0              |Husárik M.                          |\n",
      "|0              |Hussain R.  IceCube\\n  collaboration|\n",
      "|0              |Hurley H.                           |\n",
      "|0              |Hurtado Mauricio Reyes              |\n",
      "|0              |Hutton Charles                      |\n",
      "|3              |Huterer D.  the DES Collaboration   |\n",
      "|0              |Hurley K.  SSL, Univ. Berkeley      |\n",
      "|0              |Husain Mushahid                     |\n",
      "+---------------+------------------------------------+\n",
      "only showing top 10 rows\n",
      "\n"
     ]
    }
   ],
   "source": [
    "triangle_count = g.triangleCount()\n",
    "triangle_count = triangle_count.withColumnRenamed('count', 'closed-triplets')\n",
    "triangle_count.show(10, truncate=False)"
   ]
  },
  {
   "cell_type": "code",
   "execution_count": 40,
   "metadata": {},
   "outputs": [],
   "source": [
    "triangle_count.withColumnRenamed('id', 'author').write.mode('overwrite').parquet('../data/single-node-analysis/triangle-count')"
   ]
  },
  {
   "cell_type": "code",
   "execution_count": 41,
   "metadata": {},
   "outputs": [],
   "source": [
    "shortest_paths = spark.read.parquet('../data/single-node-analysis/shortest-paths/*.parquet')"
   ]
  },
  {
   "cell_type": "code",
   "execution_count": 42,
   "metadata": {},
   "outputs": [
    {
     "name": "stdout",
     "output_type": "stream",
     "text": [
      "+--------------------+--------------------+\n",
      "|                  id|           distances|\n",
      "+--------------------+--------------------+\n",
      "|   Bauer Ernst  NEEL|                 [0]|\n",
      "|Benoit Michel  EC...|                 [0]|\n",
      "|Bertram Wolfgang ...|                 [0]|\n",
      "|Bhattacharya Anta...|                 [0]|\n",
      "|Boom B. A.  ANTAR...|[1, 1, 1, 1, 1, 1...|\n",
      "+--------------------+--------------------+\n",
      "only showing top 5 rows\n",
      "\n"
     ]
    }
   ],
   "source": [
    "shortest_paths = shortest_paths.withColumn('distances', f.map_values(f.col('distances')))\n",
    "shortest_paths.show(5)\n",
    "shortest_paths = shortest_paths.withColumn('distances', f.explode(f.col('distances')))"
   ]
  },
  {
   "cell_type": "code",
   "execution_count": 43,
   "metadata": {},
   "outputs": [
    {
     "name": "stdout",
     "output_type": "stream",
     "text": [
      "+--------------+---------+\n",
      "|            id|distances|\n",
      "+--------------+---------+\n",
      "|Chatterjee C. |        2|\n",
      "|Chatterjee C. |        2|\n",
      "|Chatterjee C. |        2|\n",
      "|Chatterjee C. |        2|\n",
      "|Chatterjee C. |        2|\n",
      "+--------------+---------+\n",
      "only showing top 5 rows\n",
      "\n"
     ]
    }
   ],
   "source": [
    "shortest_paths = shortest_paths.filter(f.col('distances') == 2)\n",
    "shortest_paths.show(5)"
   ]
  },
  {
   "cell_type": "code",
   "execution_count": 44,
   "metadata": {},
   "outputs": [
    {
     "name": "stdout",
     "output_type": "stream",
     "text": [
      "+-------------------+--------------------+\n",
      "|                 id|open-closed-triplets|\n",
      "+-------------------+--------------------+\n",
      "|Kaafar Mohamed Ali |                   1|\n",
      "|      Minervini G. |                  19|\n",
      "|         Ptak Andy |                   8|\n",
      "|     Sattari Zahra |                   2|\n",
      "|   Shinnaga Hiroko |                   5|\n",
      "+-------------------+--------------------+\n",
      "only showing top 5 rows\n",
      "\n"
     ]
    }
   ],
   "source": [
    "shortest_paths = shortest_paths.groupBy('id').count().withColumnRenamed('count', 'open-closed-triplets')\n",
    "shortest_paths.show(5)"
   ]
  },
  {
   "cell_type": "code",
   "execution_count": 45,
   "metadata": {},
   "outputs": [],
   "source": [
    "nb_closed_triplets = triangle_count.select('closed-triplets').rdd.map(lambda x: (1, x[0])).reduceByKey(lambda y1, y2: y1 + y2).collect()[0][1]"
   ]
  },
  {
   "cell_type": "code",
   "execution_count": 46,
   "metadata": {},
   "outputs": [],
   "source": [
    "nb_open_triplets = shortest_paths.select('open-closed-triplets').rdd.map(lambda x: (1, x[0])).reduceByKey(lambda y1, y2: y1 + y2).collect()[0][1] + nb_closed_triplets"
   ]
  },
  {
   "cell_type": "code",
   "execution_count": 47,
   "metadata": {},
   "outputs": [
    {
     "data": {
      "text/plain": [
       "0.5187677340899879"
      ]
     },
     "execution_count": 47,
     "metadata": {},
     "output_type": "execute_result"
    }
   ],
   "source": [
    "clustering_coefficient = nb_closed_triplets / nb_open_triplets\n",
    "clustering_coefficient"
   ]
  },
  {
   "cell_type": "markdown",
   "metadata": {},
   "source": [
    "### Local clustering"
   ]
  },
  {
   "cell_type": "code",
   "execution_count": 48,
   "metadata": {},
   "outputs": [
    {
     "name": "stdout",
     "output_type": "stream",
     "text": [
      "+--------------------+------+\n",
      "|              author|degree|\n",
      "+--------------------+------+\n",
      "|     Lecroq Thierry |     2|\n",
      "|        Schreyer K. |     2|\n",
      "|Colla A.  NA60 Co...|     2|\n",
      "| Nickerson James E. |     2|\n",
      "|Milovanov A. V.  ...|     2|\n",
      "+--------------------+------+\n",
      "only showing top 5 rows\n",
      "\n"
     ]
    }
   ],
   "source": [
    "degree_centrality = spark.read.parquet('../data/single-node-analysis/degree-centrality/*.parquet')\n",
    "degree_centrality.orderBy('degree', ascending=True).show(5)"
   ]
  },
  {
   "cell_type": "code",
   "execution_count": 49,
   "metadata": {},
   "outputs": [
    {
     "name": "stdout",
     "output_type": "stream",
     "text": [
      "+------------------+--------------------+\n",
      "|   closed-triplets|              author|\n",
      "+------------------+--------------------+\n",
      "|193.33333333333334|De La Cruz-Burelo...|\n",
      "|             144.0|        Mladenov D. |\n",
      "|             140.0|           Huang J. |\n",
      "|136.66666666666666|             Abi B. |\n",
      "|112.66666666666667|        Igonkina O. |\n",
      "+------------------+--------------------+\n",
      "only showing top 5 rows\n",
      "\n"
     ]
    }
   ],
   "source": [
    "triangle_count = spark.read.parquet('../data/single-node-analysis/triangle-count/*.parquet')\n",
    "triangle_count = triangle_count.withColumn('closed-triplets', 2*f.col('closed-triplets')/3)\n",
    "triangle_count.orderBy('closed-triplets', ascending=False).show(5)"
   ]
  },
  {
   "cell_type": "code",
   "execution_count": 50,
   "metadata": {},
   "outputs": [
    {
     "name": "stdout",
     "output_type": "stream",
     "text": [
      "+--------------------+------+------------------+----------------------------+\n",
      "|              author|degree|   closed-triplets|local_clustering_coefficient|\n",
      "+--------------------+------+------------------+----------------------------+\n",
      "|      Cornish N. J. |    20|              30.0|                        0.08|\n",
      "|Jaranowski P.  De...|    18|              24.0|                        0.08|\n",
      "|          Rai A. K. |    16|18.666666666666668|                        0.08|\n",
      "|Ramos-Pollan R.  ...|    28|60.666666666666664|                        0.08|\n",
      "|          Colton N. |    20|              30.0|                        0.08|\n",
      "+--------------------+------+------------------+----------------------------+\n",
      "only showing top 5 rows\n",
      "\n"
     ]
    }
   ],
   "source": [
    "local_clustering_coefficient = degree_centrality.join(triangle_count, on='author')\n",
    "local_clustering_coefficient = local_clustering_coefficient.withColumn('local_clustering_coefficient', f.round(f.col('closed-triplets') / (f.col('degree') * (f.col('degree') - 1)), scale = 2))\n",
    "local_clustering_coefficient.orderBy('local_clustering_coefficient', ascending=False).show(5)"
   ]
  },
  {
   "cell_type": "code",
   "execution_count": 51,
   "metadata": {},
   "outputs": [],
   "source": [
    "local_clustering_coefficient.select('author', 'local_clustering_coefficient').write.mode('overwrite').parquet('../data/single-node-analysis/local_clustering_coefficient')"
   ]
  },
  {
   "cell_type": "code",
   "execution_count": 52,
   "metadata": {},
   "outputs": [
    {
     "name": "stdout",
     "output_type": "stream",
     "text": [
      "+--------------------+----------------------------+\n",
      "|              author|local_clustering_coefficient|\n",
      "+--------------------+----------------------------+\n",
      "|      Cornish N. J. |                        0.08|\n",
      "|Jaranowski P.  De...|                        0.08|\n",
      "|          Rai A. K. |                        0.08|\n",
      "|Ramos-Pollan R.  ...|                        0.08|\n",
      "|          Colton N. |                        0.08|\n",
      "+--------------------+----------------------------+\n",
      "only showing top 5 rows\n",
      "\n"
     ]
    }
   ],
   "source": [
    "local_clustering_coefficient.select('author', 'local_clustering_coefficient').orderBy('local_clustering_coefficient', ascending=False).show(5)"
   ]
  }
 ],
 "metadata": {
  "interpreter": {
   "hash": "aee8b7b246df8f9039afb4144a1f6fd8d2ca17a180786b69acc140d282b71a49"
  },
  "kernelspec": {
   "display_name": "Python 3",
   "language": "python",
   "name": "python3"
  },
  "language_info": {
   "codemirror_mode": {
    "name": "ipython",
    "version": 3
   },
   "file_extension": ".py",
   "mimetype": "text/x-python",
   "name": "python",
   "nbconvert_exporter": "python",
   "pygments_lexer": "ipython3",
   "version": "3.6.9"
  }
 },
 "nbformat": 4,
 "nbformat_minor": 4
}
