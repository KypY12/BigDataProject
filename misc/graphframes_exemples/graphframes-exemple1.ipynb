{
 "cells": [
  {
   "cell_type": "code",
   "execution_count": 1,
   "id": "597be720-472a-4672-865d-abe64c2b5943",
   "metadata": {},
   "outputs": [],
   "source": [
    "from pyspark.sql import SparkSession\n",
    "from pyspark.context import SparkContext\n",
    "from pyspark.sql import SQLContext"
   ]
  },
  {
   "cell_type": "code",
   "execution_count": 2,
   "id": "e2005c91-2997-43d3-8847-2f6114f746fa",
   "metadata": {},
   "outputs": [],
   "source": [
    "spark = SparkSession.builder.appName(\"Python Spark SQL\").config(\"spark.jars.packages\", \"graphframes:graphframes:0.8.2-spark3.2-s_2.12\").getOrCreate()\n",
    "sqlContext = SQLContext(spark.sparkContext)"
   ]
  },
  {
   "cell_type": "code",
   "execution_count": 3,
   "id": "50d2b304-e373-47f2-9b7c-577ac667e149",
   "metadata": {},
   "outputs": [],
   "source": [
    "from graphframes import *"
   ]
  },
  {
   "cell_type": "code",
   "execution_count": 4,
   "id": "e095ae17-04ab-4f19-899c-d2e0c6a82b65",
   "metadata": {},
   "outputs": [],
   "source": [
    "v = sqlContext.createDataFrame([\n",
    "  (\"Paul Harvey\",1),\n",
    "  (\"Bruno Merin\",0),\n",
    "  (\"Tracy L. Huard\",0),\n",
    "  (\"Luisa M. Rebull\",0),\n",
    "  (\"Nicholas Chapman\",1),\n",
    "  (\"Neal J. Evans II\",1),\n",
    "  (\"Philip C. Myers\",0),\n",
    "], [\"id\",\"submitter\"])"
   ]
  },
  {
   "cell_type": "code",
   "execution_count": 5,
   "id": "0bda1cd6-f8ba-4586-9a2d-bf0069e3439e",
   "metadata": {},
   "outputs": [],
   "source": [
    "e = sqlContext.createDataFrame([\n",
    "(\"Paul Harvey\", \"Bruno Merin\", \"0704.test1\"),\n",
    "(\"Paul Harvey\", \"Tracy L. Huard\", \"0704.test1\"),\n",
    "(\"Paul Harvey\", \"Luisa M. Rebull\", \"0704.test1\"),\n",
    "(\"Paul Harvey\", \"Luisa M. Rebull\", \"0704.test3\"),\n",
    "(\"Nicholas Chapman\", \"Luisa M. Rebull\", \"0704.test3\"),\n",
    "(\"Neal J. Evans II\", \"Philip C. Myers\", \"0704.test2\"),\n",
    "], [\"src\", \"dst\", \"articles\"])"
   ]
  },
  {
   "cell_type": "code",
   "execution_count": 6,
   "id": "221a56c7-2bb8-4410-8143-002655a3e39c",
   "metadata": {},
   "outputs": [],
   "source": [
    "g = GraphFrame(v, e)"
   ]
  },
  {
   "cell_type": "code",
   "execution_count": 7,
   "id": "2c3db601-3649-4f95-9e92-beed1c1f86bb",
   "metadata": {},
   "outputs": [
    {
     "name": "stderr",
     "output_type": "stream",
     "text": []
    },
    {
     "name": "stdout",
     "output_type": "stream",
     "text": [
      "+---------------+--------+\n",
      "|             id|inDegree|\n",
      "+---------------+--------+\n",
      "|    Bruno Merin|       1|\n",
      "|Luisa M. Rebull|       3|\n",
      "| Tracy L. Huard|       1|\n",
      "|Philip C. Myers|       1|\n",
      "+---------------+--------+\n",
      "\n"
     ]
    },
    {
     "name": "stderr",
     "output_type": "stream",
     "text": []
    }
   ],
   "source": [
    "g.inDegrees.show()"
   ]
  },
  {
   "cell_type": "code",
   "execution_count": 8,
   "id": "77f3a79b",
   "metadata": {},
   "outputs": [
    {
     "name": "stdout",
     "output_type": "stream",
     "text": [
      "+----------------+---------+\n",
      "|              id|outDegree|\n",
      "+----------------+---------+\n",
      "|     Paul Harvey|        4|\n",
      "|Nicholas Chapman|        1|\n",
      "|Neal J. Evans II|        1|\n",
      "+----------------+---------+\n",
      "\n"
     ]
    }
   ],
   "source": [
    "g.outDegrees.show()"
   ]
  },
  {
   "cell_type": "code",
   "execution_count": 9,
   "id": "5c14dee3-5f25-4e36-bc18-31e5a72c8406",
   "metadata": {},
   "outputs": [
    {
     "name": "stdout",
     "output_type": "stream",
     "text": [
      "+----------------+---------------+----------+\n",
      "|             src|            dst|  articles|\n",
      "+----------------+---------------+----------+\n",
      "|     Paul Harvey|Luisa M. Rebull|0704.test3|\n",
      "|Nicholas Chapman|Luisa M. Rebull|0704.test3|\n",
      "+----------------+---------------+----------+\n",
      "\n"
     ]
    }
   ],
   "source": [
    "g.edges.filter(\"articles = '0704.test3'\").show()"
   ]
  },
  {
   "cell_type": "code",
   "execution_count": 10,
   "id": "97655898",
   "metadata": {},
   "outputs": [
    {
     "name": "stderr",
     "output_type": "stream",
     "text": []
    }
   ],
   "source": [
    "spark.sparkContext.setCheckpointDir(\"/tmp/checkpoints\")\n",
    "result = g.connectedComponents()"
   ]
  },
  {
   "cell_type": "code",
   "execution_count": 11,
   "id": "55842999",
   "metadata": {},
   "outputs": [
    {
     "name": "stdout",
     "output_type": "stream",
     "text": [
      "+----------------+---------+------------+\n",
      "|              id|submitter|   component|\n",
      "+----------------+---------+------------+\n",
      "|     Paul Harvey|        1|128849018880|\n",
      "|     Bruno Merin|        0|128849018880|\n",
      "|  Tracy L. Huard|        0|128849018880|\n",
      "| Luisa M. Rebull|        0|128849018880|\n",
      "|Nicholas Chapman|        1|128849018880|\n",
      "|Neal J. Evans II|        1|549755813888|\n",
      "| Philip C. Myers|        0|549755813888|\n",
      "+----------------+---------+------------+\n",
      "\n"
     ]
    }
   ],
   "source": [
    "result.show()"
   ]
  },
  {
   "cell_type": "code",
   "execution_count": 14,
   "id": "863c401a",
   "metadata": {},
   "outputs": [
    {
     "name": "stdout",
     "output_type": "stream",
     "text": [
      "+----------------+---------+------------+\n",
      "|              id|submitter|   component|\n",
      "+----------------+---------+------------+\n",
      "|     Paul Harvey|        1|128849018880|\n",
      "|Nicholas Chapman|        1|128849018880|\n",
      "|Neal J. Evans II|        1|549755813888|\n",
      "+----------------+---------+------------+\n",
      "\n"
     ]
    }
   ],
   "source": [
    "result.where(\"submitter != 0\").show()"
   ]
  },
  {
   "cell_type": "code",
   "execution_count": 13,
   "id": "4e36269c",
   "metadata": {},
   "outputs": [
    {
     "name": "stdout",
     "output_type": "stream",
     "text": [
      "+-----+----------------+---------+\n",
      "|count|              id|submitter|\n",
      "+-----+----------------+---------+\n",
      "|    0|     Paul Harvey|        1|\n",
      "|    0|     Bruno Merin|        0|\n",
      "|    0|  Tracy L. Huard|        0|\n",
      "|    0|Nicholas Chapman|        1|\n",
      "|    0| Luisa M. Rebull|        0|\n",
      "|    0| Philip C. Myers|        0|\n",
      "|    0|Neal J. Evans II|        1|\n",
      "+-----+----------------+---------+\n",
      "\n"
     ]
    }
   ],
   "source": [
    "g.triangleCount().show()"
   ]
  }
 ],
 "metadata": {
  "kernelspec": {
   "display_name": "Python 3 (ipykernel)",
   "language": "python",
   "name": "python3"
  },
  "language_info": {
   "codemirror_mode": {
    "name": "ipython",
    "version": 3
   },
   "file_extension": ".py",
   "mimetype": "text/x-python",
   "name": "python",
   "nbconvert_exporter": "python",
   "pygments_lexer": "ipython3",
   "version": "3.9.9"
  }
 },
 "nbformat": 4,
 "nbformat_minor": 5
}
