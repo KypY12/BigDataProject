{
 "cells": [
  {
   "cell_type": "code",
   "execution_count": 1,
   "id": "597be720-472a-4672-865d-abe64c2b5943",
   "metadata": {},
   "outputs": [],
   "source": [
    "from pyspark.sql import SparkSession\n",
    "from pyspark.context import SparkContext\n",
    "from pyspark.sql import SQLContext"
   ]
  },
  {
   "cell_type": "code",
   "execution_count": null,
   "id": "e2005c91-2997-43d3-8847-2f6114f746fa",
   "metadata": {},
   "outputs": [],
   "source": [
    "spark = SparkSession.builder.appName(\"Python Spark SQL\").config(\"spark.jars.packages\", \"graphframes:graphframes:0.8.2-spark3.2-s_2.12\").getOrCreate()\n",
    "sqlContext = SQLContext(spark.sparkContext)"
   ]
  },
  {
   "cell_type": "code",
   "execution_count": 3,
   "id": "50d2b304-e373-47f2-9b7c-577ac667e149",
   "metadata": {},
   "outputs": [],
   "source": [
    "from graphframes import *"
   ]
  },
  {
   "cell_type": "code",
   "execution_count": 4,
   "id": "e095ae17-04ab-4f19-899c-d2e0c6a82b65",
   "metadata": {},
   "outputs": [],
   "source": [
    "v = sqlContext.createDataFrame([\n",
    "(\"entry_1\", \"alg_1\", 3.6),\n",
    "(\"entry_2\", \"alg_2\", 3.7),\n",
    "(\"entry_3\", \"alg_3\", 1.9),\n",
    "(\"entry_4\", \"alg_4\", 0.85),\n",
    "(\"entry_5\", \"alg_5\" ,0.85),\n",
    "(\"entry_6\", \"alg_6\", 2.2),\n",
    "(\"entry_7\", \"alg_7\", 0.4),\n",
    "(\"entry_8\", \"alg_8\", 0.3),\n",
    "], [\"id\", \"alg\", \"run_time\"])"
   ]
  },
  {
   "cell_type": "code",
   "execution_count": 5,
   "id": "0bda1cd6-f8ba-4586-9a2d-bf0069e3439e",
   "metadata": {},
   "outputs": [],
   "source": [
    "e = sqlContext.createDataFrame([\n",
    "(\"entry_1\", \"entry_2\", 1),\n",
    "(\"entry_2\", \"entry_1\", 2),\n",
    "(\"entry_3\", \"entry_1\", 2),\n",
    "(\"entry_1\", \"entry_4\", 9),\n",
    "(\"entry_3\", \"entry_8\", 8),\n",
    "(\"entry_2\", \"entry_6\", 3),\n",
    "(\"entry_6\", \"entry_2\", 2),\n",
    "(\"entry_6\", \"entry_5\", 5),\n",
    "(\"entry_5\", \"entry_7\", 10),\n",
    "], [\"src\", \"dst\", \"wait\"])"
   ]
  },
  {
   "cell_type": "code",
   "execution_count": 6,
   "id": "221a56c7-2bb8-4410-8143-002655a3e39c",
   "metadata": {},
   "outputs": [],
   "source": [
    "g = GraphFrame(v, e)"
   ]
  },
  {
   "cell_type": "code",
   "execution_count": 7,
   "id": "7d61048e",
   "metadata": {},
   "outputs": [
    {
     "name": "stderr",
     "output_type": "stream",
     "text": []
    },
    {
     "name": "stdout",
     "output_type": "stream",
     "text": [
      "+-------+-----+--------+\n",
      "|     id|  alg|run_time|\n",
      "+-------+-----+--------+\n",
      "|entry_1|alg_1|     3.6|\n",
      "|entry_2|alg_2|     3.7|\n",
      "|entry_3|alg_3|     1.9|\n",
      "|entry_4|alg_4|    0.85|\n",
      "|entry_5|alg_5|    0.85|\n",
      "|entry_6|alg_6|     2.2|\n",
      "|entry_7|alg_7|     0.4|\n",
      "|entry_8|alg_8|     0.3|\n",
      "+-------+-----+--------+\n",
      "\n"
     ]
    },
    {
     "name": "stderr",
     "output_type": "stream",
     "text": []
    }
   ],
   "source": [
    "g.vertices.show()"
   ]
  },
  {
   "cell_type": "code",
   "execution_count": 8,
   "id": "cebef7a8",
   "metadata": {},
   "outputs": [
    {
     "name": "stdout",
     "output_type": "stream",
     "text": [
      "+-------+-------+----+\n",
      "|    src|    dst|wait|\n",
      "+-------+-------+----+\n",
      "|entry_1|entry_2|   1|\n",
      "|entry_2|entry_1|   2|\n",
      "|entry_3|entry_1|   2|\n",
      "|entry_1|entry_4|   9|\n",
      "|entry_3|entry_8|   8|\n",
      "|entry_2|entry_6|   3|\n",
      "|entry_6|entry_2|   2|\n",
      "|entry_6|entry_5|   5|\n",
      "|entry_5|entry_7|  10|\n",
      "+-------+-------+----+\n",
      "\n"
     ]
    }
   ],
   "source": [
    "g.edges.show()"
   ]
  },
  {
   "cell_type": "code",
   "execution_count": 9,
   "id": "538b5c67",
   "metadata": {},
   "outputs": [
    {
     "name": "stdout",
     "output_type": "stream",
     "text": [
      "+-------+------+\n",
      "|     id|degree|\n",
      "+-------+------+\n",
      "|entry_1|     4|\n",
      "|entry_2|     4|\n",
      "|entry_4|     1|\n",
      "|entry_3|     2|\n",
      "|entry_8|     1|\n",
      "|entry_6|     3|\n",
      "|entry_7|     1|\n",
      "|entry_5|     2|\n",
      "+-------+------+\n",
      "\n"
     ]
    }
   ],
   "source": [
    "g.degrees.show()"
   ]
  },
  {
   "cell_type": "code",
   "execution_count": 10,
   "id": "2c3db601-3649-4f95-9e92-beed1c1f86bb",
   "metadata": {},
   "outputs": [
    {
     "name": "stdout",
     "output_type": "stream",
     "text": [
      "+-------+--------+\n",
      "|     id|inDegree|\n",
      "+-------+--------+\n",
      "|entry_2|       2|\n",
      "|entry_1|       2|\n",
      "|entry_4|       1|\n",
      "|entry_8|       1|\n",
      "|entry_7|       1|\n",
      "|entry_6|       1|\n",
      "|entry_5|       1|\n",
      "+-------+--------+\n",
      "\n"
     ]
    }
   ],
   "source": [
    "ind = g.inDegrees\n",
    "ind.sort(['inDegree'],ascending=[0]).show()"
   ]
  },
  {
   "cell_type": "code",
   "execution_count": 11,
   "id": "77f3a79b",
   "metadata": {},
   "outputs": [
    {
     "name": "stdout",
     "output_type": "stream",
     "text": [
      "+-------+---------+\n",
      "|     id|outDegree|\n",
      "+-------+---------+\n",
      "|entry_1|        2|\n",
      "|entry_2|        2|\n",
      "|entry_3|        2|\n",
      "|entry_6|        2|\n",
      "|entry_5|        1|\n",
      "+-------+---------+\n",
      "\n"
     ]
    }
   ],
   "source": [
    "g.outDegrees.show()"
   ]
  },
  {
   "cell_type": "code",
   "execution_count": 13,
   "id": "97655898",
   "metadata": {},
   "outputs": [
    {
     "name": "stderr",
     "output_type": "stream",
     "text": []
    }
   ],
   "source": [
    "spark.sparkContext.setCheckpointDir(\"/tmp/checkpoints2\")\n",
    "result = g.connectedComponents()"
   ]
  },
  {
   "cell_type": "code",
   "execution_count": 14,
   "id": "55842999",
   "metadata": {},
   "outputs": [
    {
     "name": "stdout",
     "output_type": "stream",
     "text": [
      "+-------+-----+--------+------------+\n",
      "|     id|  alg|run_time|   component|\n",
      "+-------+-----+--------+------------+\n",
      "|entry_1|alg_1|     3.6|214748364800|\n",
      "|entry_2|alg_2|     3.7|214748364800|\n",
      "|entry_3|alg_3|     1.9|214748364800|\n",
      "|entry_4|alg_4|    0.85|214748364800|\n",
      "|entry_5|alg_5|    0.85|214748364800|\n",
      "|entry_6|alg_6|     2.2|214748364800|\n",
      "|entry_7|alg_7|     0.4|214748364800|\n",
      "|entry_8|alg_8|     0.3|214748364800|\n",
      "+-------+-----+--------+------------+\n",
      "\n"
     ]
    }
   ],
   "source": [
    "result.show()"
   ]
  },
  {
   "cell_type": "code",
   "execution_count": 15,
   "id": "08d48ce3",
   "metadata": {},
   "outputs": [
    {
     "name": "stderr",
     "output_type": "stream",
     "text": []
    },
    {
     "name": "stdout",
     "output_type": "stream",
     "text": [
      "+-------+-----+--------+------------------+\n",
      "|     id|  alg|run_time|          pagerank|\n",
      "+-------+-----+--------+------------------+\n",
      "|entry_2|alg_2|     3.7|1.4311828823278607|\n",
      "|entry_1|alg_1|     3.6|1.2711967122398973|\n",
      "|entry_7|alg_7|     0.4|1.1995692587580498|\n",
      "|entry_6|alg_6|     2.2| 1.073476575691486|\n",
      "|entry_4|alg_4|    0.85|0.9902188955315402|\n",
      "|entry_5|alg_5|    0.85|0.9061878374984652|\n",
      "|entry_8|alg_8|     0.3|0.6629439872505565|\n",
      "|entry_3|alg_3|     1.9|0.4652238507021449|\n",
      "+-------+-----+--------+------------------+\n",
      "\n"
     ]
    }
   ],
   "source": [
    "PageRankResults = g.pageRank(resetProbability=0.15, tol=0.01)\n",
    "PageRankResults.vertices.sort(['pagerank'],ascending=[0]).show()"
   ]
  },
  {
   "cell_type": "code",
   "execution_count": 16,
   "id": "7dd206ea",
   "metadata": {},
   "outputs": [
    {
     "name": "stderr",
     "output_type": "stream",
     "text": []
    },
    {
     "name": "stdout",
     "output_type": "stream",
     "text": [
      "+-------+-------+----+------+\n",
      "|    src|    dst|wait|weight|\n",
      "+-------+-------+----+------+\n",
      "|entry_1|entry_4|   9|   0.5|\n",
      "|entry_1|entry_2|   1|   0.5|\n",
      "|entry_6|entry_5|   5|   0.5|\n",
      "|entry_6|entry_2|   2|   0.5|\n",
      "|entry_5|entry_7|  10|   1.0|\n",
      "|entry_3|entry_8|   8|   0.5|\n",
      "|entry_3|entry_1|   2|   0.5|\n",
      "|entry_2|entry_1|   2|   0.5|\n",
      "|entry_2|entry_6|   3|   0.5|\n",
      "+-------+-------+----+------+\n",
      "\n"
     ]
    }
   ],
   "source": [
    "PageRankResults.edges.show()"
   ]
  }
 ],
 "metadata": {
  "kernelspec": {
   "display_name": "Python 3 (ipykernel)",
   "language": "python",
   "name": "python3"
  },
  "language_info": {
   "codemirror_mode": {
    "name": "ipython",
    "version": 3
   },
   "file_extension": ".py",
   "mimetype": "text/x-python",
   "name": "python",
   "nbconvert_exporter": "python",
   "pygments_lexer": "ipython3",
   "version": "3.9.9"
  }
 },
 "nbformat": 4,
 "nbformat_minor": 5
}
